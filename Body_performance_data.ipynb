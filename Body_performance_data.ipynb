{
 "cells": [
  {
   "cell_type": "markdown",
   "id": "e491cdca",
   "metadata": {},
   "source": [
    "# Body performance data\n",
    "\n",
    "### Progetto preliminare all'esame di Programmazione di applicazioni Data Intensive    \n",
    "**A.A. 2021/2022**\n",
    "\n",
    "**Fabio Pedrini**    \n",
    "fabio.pedrini3@studio.unibo.it    \n",
    "Matricola: 0000916427 "
   ]
  },
  {
   "cell_type": "markdown",
   "id": "16e95162",
   "metadata": {},
   "source": [
    "## Obiettivo del progetto:\n",
    "\n",
    "Il progetto ha lo scopo di classificare la condizione fisica di persone di cui sono stati registrati i risultati di alcuni esercizi fisici."
   ]
  },
  {
   "cell_type": "markdown",
   "id": "c1fe3b13",
   "metadata": {},
   "source": [
    "### Librerie:"
   ]
  },
  {
   "cell_type": "code",
   "execution_count": 1,
   "id": "ddd30233",
   "metadata": {},
   "outputs": [],
   "source": [
    "import numpy as np\n",
    "import pandas as pd\n",
    "import matplotlib.pyplot as plt\n",
    "import sklearn\n",
    "%matplotlib inline"
   ]
  },
  {
   "cell_type": "markdown",
   "id": "b77b20c7",
   "metadata": {},
   "source": [
    "## Elaborazione e pulizia dei dati:\n",
    "Importiamo il dataset bodyPerformance.csv da Kaggle (https://www.kaggle.com/datasets/kukuroo3/body-performance-data) e costruiamo un dataframe pandas."
   ]
  },
  {
   "cell_type": "code",
   "execution_count": 2,
   "id": "86e79fe0",
   "metadata": {
    "scrolled": true
   },
   "outputs": [
    {
     "data": {
      "text/html": [
       "<div>\n",
       "<style scoped>\n",
       "    .dataframe tbody tr th:only-of-type {\n",
       "        vertical-align: middle;\n",
       "    }\n",
       "\n",
       "    .dataframe tbody tr th {\n",
       "        vertical-align: top;\n",
       "    }\n",
       "\n",
       "    .dataframe thead th {\n",
       "        text-align: right;\n",
       "    }\n",
       "</style>\n",
       "<table border=\"1\" class=\"dataframe\">\n",
       "  <thead>\n",
       "    <tr style=\"text-align: right;\">\n",
       "      <th></th>\n",
       "      <th>age</th>\n",
       "      <th>gender</th>\n",
       "      <th>height_cm</th>\n",
       "      <th>weight_kg</th>\n",
       "      <th>body fat_%</th>\n",
       "      <th>diastolic</th>\n",
       "      <th>systolic</th>\n",
       "      <th>gripForce</th>\n",
       "      <th>sit and bend forward_cm</th>\n",
       "      <th>sit-ups counts</th>\n",
       "      <th>broad jump_cm</th>\n",
       "      <th>class</th>\n",
       "    </tr>\n",
       "  </thead>\n",
       "  <tbody>\n",
       "    <tr>\n",
       "      <th>0</th>\n",
       "      <td>27.0</td>\n",
       "      <td>M</td>\n",
       "      <td>172.3</td>\n",
       "      <td>75.24</td>\n",
       "      <td>21.3</td>\n",
       "      <td>80.0</td>\n",
       "      <td>130.0</td>\n",
       "      <td>54.9</td>\n",
       "      <td>18.4</td>\n",
       "      <td>60.0</td>\n",
       "      <td>217.0</td>\n",
       "      <td>C</td>\n",
       "    </tr>\n",
       "    <tr>\n",
       "      <th>1</th>\n",
       "      <td>25.0</td>\n",
       "      <td>M</td>\n",
       "      <td>165.0</td>\n",
       "      <td>55.80</td>\n",
       "      <td>15.7</td>\n",
       "      <td>77.0</td>\n",
       "      <td>126.0</td>\n",
       "      <td>36.4</td>\n",
       "      <td>16.3</td>\n",
       "      <td>53.0</td>\n",
       "      <td>229.0</td>\n",
       "      <td>A</td>\n",
       "    </tr>\n",
       "    <tr>\n",
       "      <th>2</th>\n",
       "      <td>31.0</td>\n",
       "      <td>M</td>\n",
       "      <td>179.6</td>\n",
       "      <td>78.00</td>\n",
       "      <td>20.1</td>\n",
       "      <td>92.0</td>\n",
       "      <td>152.0</td>\n",
       "      <td>44.8</td>\n",
       "      <td>12.0</td>\n",
       "      <td>49.0</td>\n",
       "      <td>181.0</td>\n",
       "      <td>C</td>\n",
       "    </tr>\n",
       "    <tr>\n",
       "      <th>3</th>\n",
       "      <td>32.0</td>\n",
       "      <td>M</td>\n",
       "      <td>174.5</td>\n",
       "      <td>71.10</td>\n",
       "      <td>18.4</td>\n",
       "      <td>76.0</td>\n",
       "      <td>147.0</td>\n",
       "      <td>41.4</td>\n",
       "      <td>15.2</td>\n",
       "      <td>53.0</td>\n",
       "      <td>219.0</td>\n",
       "      <td>B</td>\n",
       "    </tr>\n",
       "    <tr>\n",
       "      <th>4</th>\n",
       "      <td>28.0</td>\n",
       "      <td>M</td>\n",
       "      <td>173.8</td>\n",
       "      <td>67.70</td>\n",
       "      <td>17.1</td>\n",
       "      <td>70.0</td>\n",
       "      <td>127.0</td>\n",
       "      <td>43.5</td>\n",
       "      <td>27.1</td>\n",
       "      <td>45.0</td>\n",
       "      <td>217.0</td>\n",
       "      <td>B</td>\n",
       "    </tr>\n",
       "    <tr>\n",
       "      <th>5</th>\n",
       "      <td>36.0</td>\n",
       "      <td>F</td>\n",
       "      <td>165.4</td>\n",
       "      <td>55.40</td>\n",
       "      <td>22.0</td>\n",
       "      <td>64.0</td>\n",
       "      <td>119.0</td>\n",
       "      <td>23.8</td>\n",
       "      <td>21.0</td>\n",
       "      <td>27.0</td>\n",
       "      <td>153.0</td>\n",
       "      <td>B</td>\n",
       "    </tr>\n",
       "    <tr>\n",
       "      <th>6</th>\n",
       "      <td>42.0</td>\n",
       "      <td>F</td>\n",
       "      <td>164.5</td>\n",
       "      <td>63.70</td>\n",
       "      <td>32.2</td>\n",
       "      <td>72.0</td>\n",
       "      <td>135.0</td>\n",
       "      <td>22.7</td>\n",
       "      <td>0.8</td>\n",
       "      <td>18.0</td>\n",
       "      <td>146.0</td>\n",
       "      <td>D</td>\n",
       "    </tr>\n",
       "    <tr>\n",
       "      <th>7</th>\n",
       "      <td>33.0</td>\n",
       "      <td>M</td>\n",
       "      <td>174.9</td>\n",
       "      <td>77.20</td>\n",
       "      <td>36.9</td>\n",
       "      <td>84.0</td>\n",
       "      <td>137.0</td>\n",
       "      <td>45.9</td>\n",
       "      <td>12.3</td>\n",
       "      <td>42.0</td>\n",
       "      <td>234.0</td>\n",
       "      <td>B</td>\n",
       "    </tr>\n",
       "    <tr>\n",
       "      <th>8</th>\n",
       "      <td>54.0</td>\n",
       "      <td>M</td>\n",
       "      <td>166.8</td>\n",
       "      <td>67.50</td>\n",
       "      <td>27.6</td>\n",
       "      <td>85.0</td>\n",
       "      <td>165.0</td>\n",
       "      <td>40.4</td>\n",
       "      <td>18.6</td>\n",
       "      <td>34.0</td>\n",
       "      <td>148.0</td>\n",
       "      <td>C</td>\n",
       "    </tr>\n",
       "    <tr>\n",
       "      <th>9</th>\n",
       "      <td>28.0</td>\n",
       "      <td>M</td>\n",
       "      <td>185.0</td>\n",
       "      <td>84.60</td>\n",
       "      <td>14.4</td>\n",
       "      <td>81.0</td>\n",
       "      <td>156.0</td>\n",
       "      <td>57.9</td>\n",
       "      <td>12.1</td>\n",
       "      <td>55.0</td>\n",
       "      <td>213.0</td>\n",
       "      <td>B</td>\n",
       "    </tr>\n",
       "  </tbody>\n",
       "</table>\n",
       "</div>"
      ],
      "text/plain": [
       "    age gender  height_cm  weight_kg  body fat_%  diastolic  systolic  \\\n",
       "0  27.0      M      172.3      75.24        21.3       80.0     130.0   \n",
       "1  25.0      M      165.0      55.80        15.7       77.0     126.0   \n",
       "2  31.0      M      179.6      78.00        20.1       92.0     152.0   \n",
       "3  32.0      M      174.5      71.10        18.4       76.0     147.0   \n",
       "4  28.0      M      173.8      67.70        17.1       70.0     127.0   \n",
       "5  36.0      F      165.4      55.40        22.0       64.0     119.0   \n",
       "6  42.0      F      164.5      63.70        32.2       72.0     135.0   \n",
       "7  33.0      M      174.9      77.20        36.9       84.0     137.0   \n",
       "8  54.0      M      166.8      67.50        27.6       85.0     165.0   \n",
       "9  28.0      M      185.0      84.60        14.4       81.0     156.0   \n",
       "\n",
       "   gripForce  sit and bend forward_cm  sit-ups counts  broad jump_cm class  \n",
       "0       54.9                     18.4            60.0          217.0     C  \n",
       "1       36.4                     16.3            53.0          229.0     A  \n",
       "2       44.8                     12.0            49.0          181.0     C  \n",
       "3       41.4                     15.2            53.0          219.0     B  \n",
       "4       43.5                     27.1            45.0          217.0     B  \n",
       "5       23.8                     21.0            27.0          153.0     B  \n",
       "6       22.7                      0.8            18.0          146.0     D  \n",
       "7       45.9                     12.3            42.0          234.0     B  \n",
       "8       40.4                     18.6            34.0          148.0     C  \n",
       "9       57.9                     12.1            55.0          213.0     B  "
      ]
     },
     "execution_count": 2,
     "metadata": {},
     "output_type": "execute_result"
    }
   ],
   "source": [
    "bp = pd.read_csv(\"bodyPerformance.csv\")\n",
    "bp.head(10)"
   ]
  },
  {
   "cell_type": "code",
   "execution_count": 3,
   "id": "0221716d",
   "metadata": {},
   "outputs": [
    {
     "data": {
      "text/plain": [
       "(13393, 12)"
      ]
     },
     "execution_count": 3,
     "metadata": {},
     "output_type": "execute_result"
    }
   ],
   "source": [
    "bp.shape"
   ]
  },
  {
   "cell_type": "markdown",
   "id": "2fab49dc",
   "metadata": {},
   "source": [
    "Il dataframe è composto da 13393 righe (quindi 13393 persone) e 12 colonne:\n",
    "- `age`: età\n",
    "- `gender`: genere (M o F)\n",
    "- `height_cm`: altezza (misurata in cm)\n",
    "- `weight_kg`: peso (misurato in kg)\n",
    "- `body fat_%`: percentuale di massa grassa\n",
    "- `diastolic`: pressione sanguigna diastolica (minima)\n",
    "- `systolic`: pressione sanguigna sistolica (minima)\n",
    "- `gripForce`: forza muscolare massima (misurata in kg con un dinamometro)\n",
    "- `sit and bend forward_cm`: lunghezza massima raggiunta allungando le braccia in avanti da seduti (misurata in cm)\n",
    "- `sit-ups counts`: numero di sit-up (esercizio da seduti in cui si cerca di raggiungere le ginocchia con il petto) eseguiti in 2 minuti\n",
    "- `broad jump_cm`: salto in lungo (misurato in cm)\n",
    "- **`class`: classificazione della condizione fisica, incognita da determinare (A=ottima, B=buona, C=discreta, D=sufficiente)**"
   ]
  },
  {
   "cell_type": "markdown",
   "id": "b52e725a",
   "metadata": {},
   "source": [
    "Le feature presenti (oltre alla variabile `class` da determinare) sono tutte **variabili continue**, escluso il genere (`gender`) che è una **variabile discreta binaria**."
   ]
  },
  {
   "cell_type": "markdown",
   "id": "b44e1808",
   "metadata": {},
   "source": [
    "Possiamo modificare l'ordine delle colonne del dataset e portare la variabile target dall'ultima alla prima colonna."
   ]
  },
  {
   "cell_type": "code",
   "execution_count": 4,
   "id": "8c0bbd5b",
   "metadata": {},
   "outputs": [
    {
     "data": {
      "text/html": [
       "<div>\n",
       "<style scoped>\n",
       "    .dataframe tbody tr th:only-of-type {\n",
       "        vertical-align: middle;\n",
       "    }\n",
       "\n",
       "    .dataframe tbody tr th {\n",
       "        vertical-align: top;\n",
       "    }\n",
       "\n",
       "    .dataframe thead th {\n",
       "        text-align: right;\n",
       "    }\n",
       "</style>\n",
       "<table border=\"1\" class=\"dataframe\">\n",
       "  <thead>\n",
       "    <tr style=\"text-align: right;\">\n",
       "      <th></th>\n",
       "      <th>class</th>\n",
       "      <th>age</th>\n",
       "      <th>gender</th>\n",
       "      <th>height_cm</th>\n",
       "      <th>weight_kg</th>\n",
       "      <th>body fat_%</th>\n",
       "      <th>diastolic</th>\n",
       "      <th>systolic</th>\n",
       "      <th>gripForce</th>\n",
       "      <th>sit and bend forward_cm</th>\n",
       "      <th>sit-ups counts</th>\n",
       "      <th>broad jump_cm</th>\n",
       "    </tr>\n",
       "  </thead>\n",
       "  <tbody>\n",
       "    <tr>\n",
       "      <th>0</th>\n",
       "      <td>C</td>\n",
       "      <td>27.0</td>\n",
       "      <td>M</td>\n",
       "      <td>172.3</td>\n",
       "      <td>75.24</td>\n",
       "      <td>21.3</td>\n",
       "      <td>80.0</td>\n",
       "      <td>130.0</td>\n",
       "      <td>54.9</td>\n",
       "      <td>18.4</td>\n",
       "      <td>60.0</td>\n",
       "      <td>217.0</td>\n",
       "    </tr>\n",
       "    <tr>\n",
       "      <th>1</th>\n",
       "      <td>A</td>\n",
       "      <td>25.0</td>\n",
       "      <td>M</td>\n",
       "      <td>165.0</td>\n",
       "      <td>55.80</td>\n",
       "      <td>15.7</td>\n",
       "      <td>77.0</td>\n",
       "      <td>126.0</td>\n",
       "      <td>36.4</td>\n",
       "      <td>16.3</td>\n",
       "      <td>53.0</td>\n",
       "      <td>229.0</td>\n",
       "    </tr>\n",
       "    <tr>\n",
       "      <th>2</th>\n",
       "      <td>C</td>\n",
       "      <td>31.0</td>\n",
       "      <td>M</td>\n",
       "      <td>179.6</td>\n",
       "      <td>78.00</td>\n",
       "      <td>20.1</td>\n",
       "      <td>92.0</td>\n",
       "      <td>152.0</td>\n",
       "      <td>44.8</td>\n",
       "      <td>12.0</td>\n",
       "      <td>49.0</td>\n",
       "      <td>181.0</td>\n",
       "    </tr>\n",
       "    <tr>\n",
       "      <th>3</th>\n",
       "      <td>B</td>\n",
       "      <td>32.0</td>\n",
       "      <td>M</td>\n",
       "      <td>174.5</td>\n",
       "      <td>71.10</td>\n",
       "      <td>18.4</td>\n",
       "      <td>76.0</td>\n",
       "      <td>147.0</td>\n",
       "      <td>41.4</td>\n",
       "      <td>15.2</td>\n",
       "      <td>53.0</td>\n",
       "      <td>219.0</td>\n",
       "    </tr>\n",
       "    <tr>\n",
       "      <th>4</th>\n",
       "      <td>B</td>\n",
       "      <td>28.0</td>\n",
       "      <td>M</td>\n",
       "      <td>173.8</td>\n",
       "      <td>67.70</td>\n",
       "      <td>17.1</td>\n",
       "      <td>70.0</td>\n",
       "      <td>127.0</td>\n",
       "      <td>43.5</td>\n",
       "      <td>27.1</td>\n",
       "      <td>45.0</td>\n",
       "      <td>217.0</td>\n",
       "    </tr>\n",
       "  </tbody>\n",
       "</table>\n",
       "</div>"
      ],
      "text/plain": [
       "  class   age gender  height_cm  weight_kg  body fat_%  diastolic  systolic  \\\n",
       "0     C  27.0      M      172.3      75.24        21.3       80.0     130.0   \n",
       "1     A  25.0      M      165.0      55.80        15.7       77.0     126.0   \n",
       "2     C  31.0      M      179.6      78.00        20.1       92.0     152.0   \n",
       "3     B  32.0      M      174.5      71.10        18.4       76.0     147.0   \n",
       "4     B  28.0      M      173.8      67.70        17.1       70.0     127.0   \n",
       "\n",
       "   gripForce  sit and bend forward_cm  sit-ups counts  broad jump_cm  \n",
       "0       54.9                     18.4            60.0          217.0  \n",
       "1       36.4                     16.3            53.0          229.0  \n",
       "2       44.8                     12.0            49.0          181.0  \n",
       "3       41.4                     15.2            53.0          219.0  \n",
       "4       43.5                     27.1            45.0          217.0  "
      ]
     },
     "execution_count": 4,
     "metadata": {},
     "output_type": "execute_result"
    }
   ],
   "source": [
    "columns = bp.columns.to_list()\n",
    "columns.insert(0, columns.pop(-1))\n",
    "bp = bp.reindex(columns=columns)\n",
    "bp.head(5)"
   ]
  },
  {
   "cell_type": "markdown",
   "id": "d651617c",
   "metadata": {},
   "source": [
    "Verifichiamo se sono presenti colonne con valori nulli:"
   ]
  },
  {
   "cell_type": "code",
   "execution_count": 5,
   "id": "370f8ff2",
   "metadata": {
    "scrolled": false
   },
   "outputs": [
    {
     "data": {
      "text/plain": [
       "class                      0\n",
       "age                        0\n",
       "gender                     0\n",
       "height_cm                  0\n",
       "weight_kg                  0\n",
       "body fat_%                 0\n",
       "diastolic                  0\n",
       "systolic                   0\n",
       "gripForce                  0\n",
       "sit and bend forward_cm    0\n",
       "sit-ups counts             0\n",
       "broad jump_cm              0\n",
       "dtype: int64"
      ]
     },
     "execution_count": 5,
     "metadata": {},
     "output_type": "execute_result"
    }
   ],
   "source": [
    "bp.isna().sum()"
   ]
  },
  {
   "cell_type": "markdown",
   "id": "49202ab7",
   "metadata": {},
   "source": [
    "Non sono presenti valori nulli, ma potrebbero essere presenti valori senza significato. Dalla funzione `bp.describe()` ricaviamo informazioni fondamentali per la comprensione dei dati e per trovare eventuali errori."
   ]
  },
  {
   "cell_type": "code",
   "execution_count": 6,
   "id": "7c3f9aee",
   "metadata": {
    "scrolled": false
   },
   "outputs": [
    {
     "data": {
      "text/html": [
       "<div>\n",
       "<style scoped>\n",
       "    .dataframe tbody tr th:only-of-type {\n",
       "        vertical-align: middle;\n",
       "    }\n",
       "\n",
       "    .dataframe tbody tr th {\n",
       "        vertical-align: top;\n",
       "    }\n",
       "\n",
       "    .dataframe thead th {\n",
       "        text-align: right;\n",
       "    }\n",
       "</style>\n",
       "<table border=\"1\" class=\"dataframe\">\n",
       "  <thead>\n",
       "    <tr style=\"text-align: right;\">\n",
       "      <th></th>\n",
       "      <th>age</th>\n",
       "      <th>height_cm</th>\n",
       "      <th>weight_kg</th>\n",
       "      <th>body fat_%</th>\n",
       "      <th>diastolic</th>\n",
       "      <th>systolic</th>\n",
       "      <th>gripForce</th>\n",
       "      <th>sit and bend forward_cm</th>\n",
       "      <th>sit-ups counts</th>\n",
       "      <th>broad jump_cm</th>\n",
       "    </tr>\n",
       "  </thead>\n",
       "  <tbody>\n",
       "    <tr>\n",
       "      <th>count</th>\n",
       "      <td>13393.000000</td>\n",
       "      <td>13393.000000</td>\n",
       "      <td>13393.000000</td>\n",
       "      <td>13393.000000</td>\n",
       "      <td>13393.000000</td>\n",
       "      <td>13393.000000</td>\n",
       "      <td>13393.000000</td>\n",
       "      <td>13393.000000</td>\n",
       "      <td>13393.000000</td>\n",
       "      <td>13393.000000</td>\n",
       "    </tr>\n",
       "    <tr>\n",
       "      <th>mean</th>\n",
       "      <td>36.775106</td>\n",
       "      <td>168.559807</td>\n",
       "      <td>67.447316</td>\n",
       "      <td>23.240165</td>\n",
       "      <td>78.796842</td>\n",
       "      <td>130.234817</td>\n",
       "      <td>36.963877</td>\n",
       "      <td>15.209268</td>\n",
       "      <td>39.771224</td>\n",
       "      <td>190.129627</td>\n",
       "    </tr>\n",
       "    <tr>\n",
       "      <th>std</th>\n",
       "      <td>13.625639</td>\n",
       "      <td>8.426583</td>\n",
       "      <td>11.949666</td>\n",
       "      <td>7.256844</td>\n",
       "      <td>10.742033</td>\n",
       "      <td>14.713954</td>\n",
       "      <td>10.624864</td>\n",
       "      <td>8.456677</td>\n",
       "      <td>14.276698</td>\n",
       "      <td>39.868000</td>\n",
       "    </tr>\n",
       "    <tr>\n",
       "      <th>min</th>\n",
       "      <td>21.000000</td>\n",
       "      <td>125.000000</td>\n",
       "      <td>26.300000</td>\n",
       "      <td>3.000000</td>\n",
       "      <td>0.000000</td>\n",
       "      <td>0.000000</td>\n",
       "      <td>0.000000</td>\n",
       "      <td>-25.000000</td>\n",
       "      <td>0.000000</td>\n",
       "      <td>0.000000</td>\n",
       "    </tr>\n",
       "    <tr>\n",
       "      <th>25%</th>\n",
       "      <td>25.000000</td>\n",
       "      <td>162.400000</td>\n",
       "      <td>58.200000</td>\n",
       "      <td>18.000000</td>\n",
       "      <td>71.000000</td>\n",
       "      <td>120.000000</td>\n",
       "      <td>27.500000</td>\n",
       "      <td>10.900000</td>\n",
       "      <td>30.000000</td>\n",
       "      <td>162.000000</td>\n",
       "    </tr>\n",
       "    <tr>\n",
       "      <th>50%</th>\n",
       "      <td>32.000000</td>\n",
       "      <td>169.200000</td>\n",
       "      <td>67.400000</td>\n",
       "      <td>22.800000</td>\n",
       "      <td>79.000000</td>\n",
       "      <td>130.000000</td>\n",
       "      <td>37.900000</td>\n",
       "      <td>16.200000</td>\n",
       "      <td>41.000000</td>\n",
       "      <td>193.000000</td>\n",
       "    </tr>\n",
       "    <tr>\n",
       "      <th>75%</th>\n",
       "      <td>48.000000</td>\n",
       "      <td>174.800000</td>\n",
       "      <td>75.300000</td>\n",
       "      <td>28.000000</td>\n",
       "      <td>86.000000</td>\n",
       "      <td>141.000000</td>\n",
       "      <td>45.200000</td>\n",
       "      <td>20.700000</td>\n",
       "      <td>50.000000</td>\n",
       "      <td>221.000000</td>\n",
       "    </tr>\n",
       "    <tr>\n",
       "      <th>max</th>\n",
       "      <td>64.000000</td>\n",
       "      <td>193.800000</td>\n",
       "      <td>138.100000</td>\n",
       "      <td>78.400000</td>\n",
       "      <td>156.200000</td>\n",
       "      <td>201.000000</td>\n",
       "      <td>70.500000</td>\n",
       "      <td>213.000000</td>\n",
       "      <td>80.000000</td>\n",
       "      <td>303.000000</td>\n",
       "    </tr>\n",
       "  </tbody>\n",
       "</table>\n",
       "</div>"
      ],
      "text/plain": [
       "                age     height_cm     weight_kg    body fat_%     diastolic  \\\n",
       "count  13393.000000  13393.000000  13393.000000  13393.000000  13393.000000   \n",
       "mean      36.775106    168.559807     67.447316     23.240165     78.796842   \n",
       "std       13.625639      8.426583     11.949666      7.256844     10.742033   \n",
       "min       21.000000    125.000000     26.300000      3.000000      0.000000   \n",
       "25%       25.000000    162.400000     58.200000     18.000000     71.000000   \n",
       "50%       32.000000    169.200000     67.400000     22.800000     79.000000   \n",
       "75%       48.000000    174.800000     75.300000     28.000000     86.000000   \n",
       "max       64.000000    193.800000    138.100000     78.400000    156.200000   \n",
       "\n",
       "           systolic     gripForce  sit and bend forward_cm  sit-ups counts  \\\n",
       "count  13393.000000  13393.000000             13393.000000    13393.000000   \n",
       "mean     130.234817     36.963877                15.209268       39.771224   \n",
       "std       14.713954     10.624864                 8.456677       14.276698   \n",
       "min        0.000000      0.000000               -25.000000        0.000000   \n",
       "25%      120.000000     27.500000                10.900000       30.000000   \n",
       "50%      130.000000     37.900000                16.200000       41.000000   \n",
       "75%      141.000000     45.200000                20.700000       50.000000   \n",
       "max      201.000000     70.500000               213.000000       80.000000   \n",
       "\n",
       "       broad jump_cm  \n",
       "count   13393.000000  \n",
       "mean      190.129627  \n",
       "std        39.868000  \n",
       "min         0.000000  \n",
       "25%       162.000000  \n",
       "50%       193.000000  \n",
       "75%       221.000000  \n",
       "max       303.000000  "
      ]
     },
     "execution_count": 6,
     "metadata": {},
     "output_type": "execute_result"
    }
   ],
   "source": [
    "bp.describe()"
   ]
  },
  {
   "cell_type": "markdown",
   "id": "1e3357d8",
   "metadata": {},
   "source": [
    "Notiamo che il valore massimo di allungamento delle braccia da seduti (colonna: `sit and bend forward_cm`) è di 213 cm ed è un valore esageratamente alto. Verifichiamo se esistono atleti con allungamento maggiore della loro altezza e li rimuoviamo dal dataset."
   ]
  },
  {
   "cell_type": "code",
   "execution_count": 7,
   "id": "303a5d41",
   "metadata": {
    "scrolled": true
   },
   "outputs": [
    {
     "data": {
      "text/html": [
       "<div>\n",
       "<style scoped>\n",
       "    .dataframe tbody tr th:only-of-type {\n",
       "        vertical-align: middle;\n",
       "    }\n",
       "\n",
       "    .dataframe tbody tr th {\n",
       "        vertical-align: top;\n",
       "    }\n",
       "\n",
       "    .dataframe thead th {\n",
       "        text-align: right;\n",
       "    }\n",
       "</style>\n",
       "<table border=\"1\" class=\"dataframe\">\n",
       "  <thead>\n",
       "    <tr style=\"text-align: right;\">\n",
       "      <th></th>\n",
       "      <th>class</th>\n",
       "      <th>age</th>\n",
       "      <th>gender</th>\n",
       "      <th>height_cm</th>\n",
       "      <th>weight_kg</th>\n",
       "      <th>body fat_%</th>\n",
       "      <th>diastolic</th>\n",
       "      <th>systolic</th>\n",
       "      <th>gripForce</th>\n",
       "      <th>sit and bend forward_cm</th>\n",
       "      <th>sit-ups counts</th>\n",
       "      <th>broad jump_cm</th>\n",
       "    </tr>\n",
       "  </thead>\n",
       "  <tbody>\n",
       "    <tr>\n",
       "      <th>2657</th>\n",
       "      <td>B</td>\n",
       "      <td>33.0</td>\n",
       "      <td>M</td>\n",
       "      <td>165.6</td>\n",
       "      <td>60.4</td>\n",
       "      <td>17.8</td>\n",
       "      <td>81.0</td>\n",
       "      <td>127.0</td>\n",
       "      <td>38.6</td>\n",
       "      <td>213.0</td>\n",
       "      <td>53.0</td>\n",
       "      <td>244.0</td>\n",
       "    </tr>\n",
       "    <tr>\n",
       "      <th>3355</th>\n",
       "      <td>A</td>\n",
       "      <td>45.0</td>\n",
       "      <td>M</td>\n",
       "      <td>164.4</td>\n",
       "      <td>64.4</td>\n",
       "      <td>24.3</td>\n",
       "      <td>96.0</td>\n",
       "      <td>142.0</td>\n",
       "      <td>38.5</td>\n",
       "      <td>185.0</td>\n",
       "      <td>44.0</td>\n",
       "      <td>223.0</td>\n",
       "    </tr>\n",
       "  </tbody>\n",
       "</table>\n",
       "</div>"
      ],
      "text/plain": [
       "     class   age gender  height_cm  weight_kg  body fat_%  diastolic  \\\n",
       "2657     B  33.0      M      165.6       60.4        17.8       81.0   \n",
       "3355     A  45.0      M      164.4       64.4        24.3       96.0   \n",
       "\n",
       "      systolic  gripForce  sit and bend forward_cm  sit-ups counts  \\\n",
       "2657     127.0       38.6                    213.0            53.0   \n",
       "3355     142.0       38.5                    185.0            44.0   \n",
       "\n",
       "      broad jump_cm  \n",
       "2657          244.0  \n",
       "3355          223.0  "
      ]
     },
     "execution_count": 7,
     "metadata": {},
     "output_type": "execute_result"
    }
   ],
   "source": [
    "bp[bp[\"sit and bend forward_cm\"] >= bp[\"height_cm\"]]"
   ]
  },
  {
   "cell_type": "markdown",
   "id": "e6bc8bd2",
   "metadata": {},
   "source": [
    "Creiamo un set contenente gli indici delle righe da rimuovere, in modo tale da effettuare la `drop` una volta sola."
   ]
  },
  {
   "cell_type": "code",
   "execution_count": 8,
   "id": "f0155bc7",
   "metadata": {
    "scrolled": false
   },
   "outputs": [],
   "source": [
    "indexes = bp[bp[\"sit and bend forward_cm\"] >= bp[\"height_cm\"]].index\n",
    "indici = set(indexes)"
   ]
  },
  {
   "cell_type": "markdown",
   "id": "71550e08",
   "metadata": {},
   "source": [
    "Inoltre, è necessario verificare che la pressione sanguigna diastolica sia minore di quella sistolica, dato che non può accadere il contrario."
   ]
  },
  {
   "cell_type": "code",
   "execution_count": 9,
   "id": "f3a65e9c",
   "metadata": {},
   "outputs": [],
   "source": [
    "for i in bp[bp[\"diastolic\"] >= bp[\"systolic\"]].index:\n",
    "    indici.add(i)"
   ]
  },
  {
   "cell_type": "markdown",
   "id": "740ad9b5",
   "metadata": {},
   "source": [
    "Si procede rimuovendo altri valori errati semanticamente o estremi:      \n",
    "- Rimuoviamo pressioni minime e massime rispettivamente inferiori a 40 e 70."
   ]
  },
  {
   "cell_type": "code",
   "execution_count": 10,
   "id": "48438f80",
   "metadata": {},
   "outputs": [],
   "source": [
    "for i in bp[bp[\"diastolic\"] <= 40].index:\n",
    "    indici.add(i)\n",
    "    \n",
    "for i in bp[bp[\"systolic\"] <= 70].index:\n",
    "    indici.add(i)"
   ]
  },
  {
   "cell_type": "markdown",
   "id": "a6b088bf",
   "metadata": {},
   "source": [
    "- Rimuoviamo pesi inferiori a 40 kg"
   ]
  },
  {
   "cell_type": "code",
   "execution_count": 11,
   "id": "1e5c8de0",
   "metadata": {},
   "outputs": [],
   "source": [
    "for i in bp[bp[\"weight_kg\"] < 40].index: \n",
    "    indici.add(i)"
   ]
  },
  {
   "cell_type": "markdown",
   "id": "02a755bf",
   "metadata": {},
   "source": [
    "- Rimuoviamo altezze minori di 130 cm"
   ]
  },
  {
   "cell_type": "code",
   "execution_count": 12,
   "id": "82339525",
   "metadata": {},
   "outputs": [],
   "source": [
    "for i in bp[bp[\"height_cm\"] < 130].index:\n",
    "    indici.add(i)"
   ]
  },
  {
   "cell_type": "markdown",
   "id": "5bc05c3e",
   "metadata": {},
   "source": [
    "- Rimuoviamo un caso particolare in cui un uomo possedeva una percentuale di massa grassa elevatissima nonostante altezza e peso nella media"
   ]
  },
  {
   "cell_type": "code",
   "execution_count": 13,
   "id": "c46d7892",
   "metadata": {},
   "outputs": [],
   "source": [
    "for i in bp[bp[\"body fat_%\"] >= 70].index:  \n",
    "    indici.add(i)                           "
   ]
  },
  {
   "cell_type": "code",
   "execution_count": 14,
   "id": "e778a785",
   "metadata": {},
   "outputs": [
    {
     "name": "stdout",
     "output_type": "stream",
     "text": [
      "{10624, 6786, 7944, 4370, 12949, 8217, 3355, 1182, 2216, 7597, 8622, 12207, 10295, 10552, 1081, 8251, 8131, 3524, 7495, 2891, 336, 6488, 344, 6234, 216, 12637, 735, 2657, 8422, 11623, 12023, 9595, 7550}\n"
     ]
    }
   ],
   "source": [
    "bp.drop(index=indici, inplace=True)\n",
    "print(indici)"
   ]
  },
  {
   "cell_type": "markdown",
   "id": "e7958189",
   "metadata": {},
   "source": [
    "Possiamo, inoltre, introdurre una nuova feature (colonna nel dataFrame) che denomineremo **`bmi`** e indica l'indice di massa corporeo, calcolato come rapporto fra peso e altezza al quadrato. Muoviamo la colonna appena creata dall'ultima alla seconda posizione."
   ]
  },
  {
   "cell_type": "code",
   "execution_count": 15,
   "id": "cbbadb12",
   "metadata": {},
   "outputs": [
    {
     "data": {
      "text/html": [
       "<div>\n",
       "<style scoped>\n",
       "    .dataframe tbody tr th:only-of-type {\n",
       "        vertical-align: middle;\n",
       "    }\n",
       "\n",
       "    .dataframe tbody tr th {\n",
       "        vertical-align: top;\n",
       "    }\n",
       "\n",
       "    .dataframe thead th {\n",
       "        text-align: right;\n",
       "    }\n",
       "</style>\n",
       "<table border=\"1\" class=\"dataframe\">\n",
       "  <thead>\n",
       "    <tr style=\"text-align: right;\">\n",
       "      <th></th>\n",
       "      <th>class</th>\n",
       "      <th>bmi</th>\n",
       "      <th>age</th>\n",
       "      <th>gender</th>\n",
       "      <th>height_cm</th>\n",
       "      <th>weight_kg</th>\n",
       "      <th>body fat_%</th>\n",
       "      <th>diastolic</th>\n",
       "      <th>systolic</th>\n",
       "      <th>gripForce</th>\n",
       "      <th>sit and bend forward_cm</th>\n",
       "      <th>sit-ups counts</th>\n",
       "      <th>broad jump_cm</th>\n",
       "    </tr>\n",
       "  </thead>\n",
       "  <tbody>\n",
       "    <tr>\n",
       "      <th>0</th>\n",
       "      <td>C</td>\n",
       "      <td>25.344179</td>\n",
       "      <td>27.0</td>\n",
       "      <td>M</td>\n",
       "      <td>172.3</td>\n",
       "      <td>75.24</td>\n",
       "      <td>21.3</td>\n",
       "      <td>80.0</td>\n",
       "      <td>130.0</td>\n",
       "      <td>54.9</td>\n",
       "      <td>18.4</td>\n",
       "      <td>60.0</td>\n",
       "      <td>217.0</td>\n",
       "    </tr>\n",
       "    <tr>\n",
       "      <th>1</th>\n",
       "      <td>A</td>\n",
       "      <td>20.495868</td>\n",
       "      <td>25.0</td>\n",
       "      <td>M</td>\n",
       "      <td>165.0</td>\n",
       "      <td>55.80</td>\n",
       "      <td>15.7</td>\n",
       "      <td>77.0</td>\n",
       "      <td>126.0</td>\n",
       "      <td>36.4</td>\n",
       "      <td>16.3</td>\n",
       "      <td>53.0</td>\n",
       "      <td>229.0</td>\n",
       "    </tr>\n",
       "    <tr>\n",
       "      <th>2</th>\n",
       "      <td>C</td>\n",
       "      <td>24.181428</td>\n",
       "      <td>31.0</td>\n",
       "      <td>M</td>\n",
       "      <td>179.6</td>\n",
       "      <td>78.00</td>\n",
       "      <td>20.1</td>\n",
       "      <td>92.0</td>\n",
       "      <td>152.0</td>\n",
       "      <td>44.8</td>\n",
       "      <td>12.0</td>\n",
       "      <td>49.0</td>\n",
       "      <td>181.0</td>\n",
       "    </tr>\n",
       "    <tr>\n",
       "      <th>3</th>\n",
       "      <td>B</td>\n",
       "      <td>23.349562</td>\n",
       "      <td>32.0</td>\n",
       "      <td>M</td>\n",
       "      <td>174.5</td>\n",
       "      <td>71.10</td>\n",
       "      <td>18.4</td>\n",
       "      <td>76.0</td>\n",
       "      <td>147.0</td>\n",
       "      <td>41.4</td>\n",
       "      <td>15.2</td>\n",
       "      <td>53.0</td>\n",
       "      <td>219.0</td>\n",
       "    </tr>\n",
       "    <tr>\n",
       "      <th>4</th>\n",
       "      <td>B</td>\n",
       "      <td>22.412439</td>\n",
       "      <td>28.0</td>\n",
       "      <td>M</td>\n",
       "      <td>173.8</td>\n",
       "      <td>67.70</td>\n",
       "      <td>17.1</td>\n",
       "      <td>70.0</td>\n",
       "      <td>127.0</td>\n",
       "      <td>43.5</td>\n",
       "      <td>27.1</td>\n",
       "      <td>45.0</td>\n",
       "      <td>217.0</td>\n",
       "    </tr>\n",
       "  </tbody>\n",
       "</table>\n",
       "</div>"
      ],
      "text/plain": [
       "  class        bmi   age gender  height_cm  weight_kg  body fat_%  diastolic  \\\n",
       "0     C  25.344179  27.0      M      172.3      75.24        21.3       80.0   \n",
       "1     A  20.495868  25.0      M      165.0      55.80        15.7       77.0   \n",
       "2     C  24.181428  31.0      M      179.6      78.00        20.1       92.0   \n",
       "3     B  23.349562  32.0      M      174.5      71.10        18.4       76.0   \n",
       "4     B  22.412439  28.0      M      173.8      67.70        17.1       70.0   \n",
       "\n",
       "   systolic  gripForce  sit and bend forward_cm  sit-ups counts  broad jump_cm  \n",
       "0     130.0       54.9                     18.4            60.0          217.0  \n",
       "1     126.0       36.4                     16.3            53.0          229.0  \n",
       "2     152.0       44.8                     12.0            49.0          181.0  \n",
       "3     147.0       41.4                     15.2            53.0          219.0  \n",
       "4     127.0       43.5                     27.1            45.0          217.0  "
      ]
     },
     "execution_count": 15,
     "metadata": {},
     "output_type": "execute_result"
    }
   ],
   "source": [
    "bp['bmi'] = (bp[\"weight_kg\"] / (bp[\"height_cm\"] / 100)**2)\n",
    "columns = bp.columns.to_list()\n",
    "columns.insert(1, columns.pop(-1))\n",
    "bp = bp.reindex(columns=columns)\n",
    "bp.head(5)"
   ]
  },
  {
   "cell_type": "markdown",
   "id": "a2ec6b1c",
   "metadata": {},
   "source": [
    "Come ultima modifica, convertiamo i valori della feature `gender` e della variabile `class` in valori numerici interi. Rappresentiamo il genere come **M=1** e **F=0** mentre le classi come **A=3**, **B=2**, **C=1** e **D=0**."
   ]
  },
  {
   "cell_type": "code",
   "execution_count": 16,
   "id": "eb01e1e9",
   "metadata": {},
   "outputs": [
    {
     "name": "stdout",
     "output_type": "stream",
     "text": [
      "1 1\n"
     ]
    }
   ],
   "source": [
    "bp['gender'].replace(['M','F'], [1,0], inplace=True)\n",
    "bp['class'].replace(['A', 'B', 'C', 'D'], [3, 2, 1, 0], inplace=True)\n",
    "print(bp[\"gender\"][0], bp[\"class\"][0])"
   ]
  },
  {
   "cell_type": "code",
   "execution_count": 17,
   "id": "16c48bc1",
   "metadata": {
    "scrolled": true
   },
   "outputs": [
    {
     "data": {
      "text/html": [
       "<div>\n",
       "<style scoped>\n",
       "    .dataframe tbody tr th:only-of-type {\n",
       "        vertical-align: middle;\n",
       "    }\n",
       "\n",
       "    .dataframe tbody tr th {\n",
       "        vertical-align: top;\n",
       "    }\n",
       "\n",
       "    .dataframe thead th {\n",
       "        text-align: right;\n",
       "    }\n",
       "</style>\n",
       "<table border=\"1\" class=\"dataframe\">\n",
       "  <thead>\n",
       "    <tr style=\"text-align: right;\">\n",
       "      <th></th>\n",
       "      <th>class</th>\n",
       "      <th>bmi</th>\n",
       "      <th>age</th>\n",
       "      <th>gender</th>\n",
       "      <th>height_cm</th>\n",
       "      <th>weight_kg</th>\n",
       "      <th>body fat_%</th>\n",
       "      <th>diastolic</th>\n",
       "      <th>systolic</th>\n",
       "      <th>gripForce</th>\n",
       "      <th>sit and bend forward_cm</th>\n",
       "      <th>sit-ups counts</th>\n",
       "      <th>broad jump_cm</th>\n",
       "    </tr>\n",
       "  </thead>\n",
       "  <tbody>\n",
       "    <tr>\n",
       "      <th>count</th>\n",
       "      <td>13360.000000</td>\n",
       "      <td>13360.000000</td>\n",
       "      <td>13360.00000</td>\n",
       "      <td>13360.000000</td>\n",
       "      <td>13360.000000</td>\n",
       "      <td>13360.000000</td>\n",
       "      <td>13360.000000</td>\n",
       "      <td>13360.000000</td>\n",
       "      <td>13360.000000</td>\n",
       "      <td>13360.000000</td>\n",
       "      <td>13360.000000</td>\n",
       "      <td>13360.000000</td>\n",
       "      <td>13360.000000</td>\n",
       "    </tr>\n",
       "    <tr>\n",
       "      <th>mean</th>\n",
       "      <td>1.499626</td>\n",
       "      <td>23.617957</td>\n",
       "      <td>36.76976</td>\n",
       "      <td>0.632859</td>\n",
       "      <td>168.583166</td>\n",
       "      <td>67.494840</td>\n",
       "      <td>23.234785</td>\n",
       "      <td>78.826025</td>\n",
       "      <td>130.281512</td>\n",
       "      <td>36.984612</td>\n",
       "      <td>15.177368</td>\n",
       "      <td>39.788024</td>\n",
       "      <td>190.197013</td>\n",
       "    </tr>\n",
       "    <tr>\n",
       "      <th>std</th>\n",
       "      <td>1.117741</td>\n",
       "      <td>2.925964</td>\n",
       "      <td>13.62331</td>\n",
       "      <td>0.482043</td>\n",
       "      <td>8.404938</td>\n",
       "      <td>11.899545</td>\n",
       "      <td>7.238381</td>\n",
       "      <td>10.641283</td>\n",
       "      <td>14.610066</td>\n",
       "      <td>10.608950</td>\n",
       "      <td>8.152600</td>\n",
       "      <td>14.263251</td>\n",
       "      <td>39.805025</td>\n",
       "    </tr>\n",
       "    <tr>\n",
       "      <th>min</th>\n",
       "      <td>0.000000</td>\n",
       "      <td>15.078359</td>\n",
       "      <td>21.00000</td>\n",
       "      <td>0.000000</td>\n",
       "      <td>139.500000</td>\n",
       "      <td>40.000000</td>\n",
       "      <td>3.000000</td>\n",
       "      <td>41.000000</td>\n",
       "      <td>82.000000</td>\n",
       "      <td>0.000000</td>\n",
       "      <td>-25.000000</td>\n",
       "      <td>0.000000</td>\n",
       "      <td>0.000000</td>\n",
       "    </tr>\n",
       "    <tr>\n",
       "      <th>25%</th>\n",
       "      <td>1.000000</td>\n",
       "      <td>21.618473</td>\n",
       "      <td>25.00000</td>\n",
       "      <td>0.000000</td>\n",
       "      <td>162.400000</td>\n",
       "      <td>58.200000</td>\n",
       "      <td>18.000000</td>\n",
       "      <td>71.000000</td>\n",
       "      <td>120.000000</td>\n",
       "      <td>27.500000</td>\n",
       "      <td>10.900000</td>\n",
       "      <td>30.000000</td>\n",
       "      <td>162.000000</td>\n",
       "    </tr>\n",
       "    <tr>\n",
       "      <th>50%</th>\n",
       "      <td>1.000000</td>\n",
       "      <td>23.467274</td>\n",
       "      <td>32.00000</td>\n",
       "      <td>1.000000</td>\n",
       "      <td>169.200000</td>\n",
       "      <td>67.500000</td>\n",
       "      <td>22.800000</td>\n",
       "      <td>79.000000</td>\n",
       "      <td>130.000000</td>\n",
       "      <td>37.900000</td>\n",
       "      <td>16.200000</td>\n",
       "      <td>41.000000</td>\n",
       "      <td>193.000000</td>\n",
       "    </tr>\n",
       "    <tr>\n",
       "      <th>75%</th>\n",
       "      <td>2.000000</td>\n",
       "      <td>25.343033</td>\n",
       "      <td>48.00000</td>\n",
       "      <td>1.000000</td>\n",
       "      <td>174.800000</td>\n",
       "      <td>75.370000</td>\n",
       "      <td>28.000000</td>\n",
       "      <td>86.000000</td>\n",
       "      <td>141.000000</td>\n",
       "      <td>45.200000</td>\n",
       "      <td>20.700000</td>\n",
       "      <td>50.000000</td>\n",
       "      <td>221.000000</td>\n",
       "    </tr>\n",
       "    <tr>\n",
       "      <th>max</th>\n",
       "      <td>3.000000</td>\n",
       "      <td>42.906509</td>\n",
       "      <td>64.00000</td>\n",
       "      <td>1.000000</td>\n",
       "      <td>193.800000</td>\n",
       "      <td>138.100000</td>\n",
       "      <td>54.900000</td>\n",
       "      <td>126.000000</td>\n",
       "      <td>201.000000</td>\n",
       "      <td>70.500000</td>\n",
       "      <td>42.000000</td>\n",
       "      <td>80.000000</td>\n",
       "      <td>303.000000</td>\n",
       "    </tr>\n",
       "  </tbody>\n",
       "</table>\n",
       "</div>"
      ],
      "text/plain": [
       "              class           bmi          age        gender     height_cm  \\\n",
       "count  13360.000000  13360.000000  13360.00000  13360.000000  13360.000000   \n",
       "mean       1.499626     23.617957     36.76976      0.632859    168.583166   \n",
       "std        1.117741      2.925964     13.62331      0.482043      8.404938   \n",
       "min        0.000000     15.078359     21.00000      0.000000    139.500000   \n",
       "25%        1.000000     21.618473     25.00000      0.000000    162.400000   \n",
       "50%        1.000000     23.467274     32.00000      1.000000    169.200000   \n",
       "75%        2.000000     25.343033     48.00000      1.000000    174.800000   \n",
       "max        3.000000     42.906509     64.00000      1.000000    193.800000   \n",
       "\n",
       "          weight_kg    body fat_%     diastolic      systolic     gripForce  \\\n",
       "count  13360.000000  13360.000000  13360.000000  13360.000000  13360.000000   \n",
       "mean      67.494840     23.234785     78.826025    130.281512     36.984612   \n",
       "std       11.899545      7.238381     10.641283     14.610066     10.608950   \n",
       "min       40.000000      3.000000     41.000000     82.000000      0.000000   \n",
       "25%       58.200000     18.000000     71.000000    120.000000     27.500000   \n",
       "50%       67.500000     22.800000     79.000000    130.000000     37.900000   \n",
       "75%       75.370000     28.000000     86.000000    141.000000     45.200000   \n",
       "max      138.100000     54.900000    126.000000    201.000000     70.500000   \n",
       "\n",
       "       sit and bend forward_cm  sit-ups counts  broad jump_cm  \n",
       "count             13360.000000    13360.000000   13360.000000  \n",
       "mean                 15.177368       39.788024     190.197013  \n",
       "std                   8.152600       14.263251      39.805025  \n",
       "min                 -25.000000        0.000000       0.000000  \n",
       "25%                  10.900000       30.000000     162.000000  \n",
       "50%                  16.200000       41.000000     193.000000  \n",
       "75%                  20.700000       50.000000     221.000000  \n",
       "max                  42.000000       80.000000     303.000000  "
      ]
     },
     "execution_count": 17,
     "metadata": {},
     "output_type": "execute_result"
    }
   ],
   "source": [
    "bp.describe()"
   ]
  },
  {
   "cell_type": "markdown",
   "id": "93073e65",
   "metadata": {},
   "source": [
    "## Analisi dei dati\n",
    "Per prima cosa, verifichiamo la distribuzione delle classi all'interno del dataset."
   ]
  },
  {
   "cell_type": "code",
   "execution_count": 18,
   "id": "02e09bc1",
   "metadata": {
    "scrolled": false
   },
   "outputs": [
    {
     "data": {
      "image/png": "[encoded data removed]",
      "text/plain": [
       "<Figure size 864x432 with 2 Axes>"
      ]
     },
     "metadata": {
      "needs_background": "light"
     },
     "output_type": "display_data"
    },
    {
     "name": "stdout",
     "output_type": "stream",
     "text": [
      "1    3346\n",
      "2    3339\n",
      "0    3338\n",
      "3    3337\n",
      "Name: class, dtype: int64\n"
     ]
    }
   ],
   "source": [
    "plt.figure(figsize=(12, 6))\n",
    "plt.subplot(1, 2, 1).hist(bp[\"class\"])\n",
    "plt.subplot(1, 2, 2)\n",
    "values = bp[\"class\"].value_counts()\n",
    "label_map = {3: \"A\", 2: \"B\", 1: \"C\", 0:\"D\"}\n",
    "plt.pie(values, labels=values.index.map(label_map), autopct=\"%.2f%%\")\n",
    "plt.show()\n",
    "print(values)"
   ]
  },
  {
   "cell_type": "markdown",
   "id": "9837dd99",
   "metadata": {},
   "source": [
    "Come possiamo notare, gli atleti del dataset sono suddivisi equamente all'interno delle 4 classi presenti. Il problema risulta quindi essere bilanciato e non è necessario utilizzare tecniche di bilanciamento. "
   ]
  },
  {
   "cell_type": "markdown",
   "id": "03423965",
   "metadata": {},
   "source": [
    "Per quanto riguarda il genere, invece, gli uomini rappresentano circa il 63% degli atleti totali, mentre le donne solamente il 37% circa."
   ]
  },
  {
   "cell_type": "code",
   "execution_count": 19,
   "id": "204f31cd",
   "metadata": {},
   "outputs": [
    {
     "data": {
      "image/png": "[encoded data removed]",
      "text/plain": [
       "<Figure size 1080x432 with 1 Axes>"
      ]
     },
     "metadata": {},
     "output_type": "display_data"
    }
   ],
   "source": [
    "plt.figure(figsize=(15, 6))\n",
    "plt.pie(bp[\"gender\"].value_counts(), labels=[\"Men\", \"Women\"], autopct=\"%.2f%%\")\n",
    "plt.show()"
   ]
  },
  {
   "cell_type": "markdown",
   "id": "0eb8bfd0",
   "metadata": {},
   "source": [
    "Visualizziamo la distribuzione dell'età, altezza, peso e BMI con istogrammi."
   ]
  },
  {
   "cell_type": "code",
   "execution_count": 20,
   "id": "addc672a",
   "metadata": {
    "scrolled": false
   },
   "outputs": [
    {
     "data": {
      "image/png": "[encoded data removed]",
      "text/plain": [
       "<Figure size 864x432 with 1 Axes>"
      ]
     },
     "metadata": {
      "needs_background": "light"
     },
     "output_type": "display_data"
    }
   ],
   "source": [
    "plt.figure(figsize=(12, 6))\n",
    "pd.cut(bp[\"age\"], bins=5).value_counts().sort_index().plot.bar()\n",
    "plt.show()"
   ]
  },
  {
   "cell_type": "markdown",
   "id": "996ad950",
   "metadata": {},
   "source": [
    "Per quanto riguarda l'età, possiamo notare un'alta frequenza di ragazzi tra i 20 e i 29 anni, mentre gli altri range di età sono distribuiti abbastanza uniformemente."
   ]
  },
  {
   "cell_type": "code",
   "execution_count": 21,
   "id": "2660806a",
   "metadata": {
    "scrolled": false
   },
   "outputs": [
    {
     "data": {
      "image/png": "[encoded data removed]",
      "text/plain": [
       "<Figure size 1296x504 with 3 Axes>"
      ]
     },
     "metadata": {
      "needs_background": "light"
     },
     "output_type": "display_data"
    }
   ],
   "source": [
    "plt.figure(figsize=(18, 7))\n",
    "plt.subplot(1, 3, 1).hist(bp[\"height_cm\"])\n",
    "plt.ylabel('Frequenza')\n",
    "plt.xlabel('Altezza (cm)')\n",
    "plt.subplot(1, 3, 2).hist(bp[\"weight_kg\"])\n",
    "plt.ylabel('Frequenza')\n",
    "plt.xlabel('Peso (kg)')\n",
    "plt.subplot(1, 3, 3).hist(bp[\"bmi\"])\n",
    "plt.ylabel('Frequenza')\n",
    "plt.xlabel('BMI')\n",
    "plt.show()"
   ]
  },
  {
   "cell_type": "markdown",
   "id": "6b424bb8",
   "metadata": {},
   "source": [
    "Come sottolineato dai grafici, i valori di altezza, peso e BMI più frequenti sono nella media:\n",
    "- **altezza** tra i 155 e i 180 cm;\n",
    "- **peso** tra i 50 e gli 80 kg;\n",
    "- **BMI** tra 20 e 25 (le persone sono considerate \"normopeso\" se possiedono un BMI compreso tra 18,5 e 25)."
   ]
  },
  {
   "cell_type": "markdown",
   "id": "b9f7ea20",
   "metadata": {},
   "source": [
    "Rappresentiamo i risultati degli esercizi fisici con _box plot_ per sottolineare la media dei risultati e i valori estremi.   \n",
    "Notiamo che nel `sit and bend forward` e nel `broad jump` sono presenti diversi valori (_outliers_) nettamente al di sotto del minimo (calcolato utilizzando i valori del primo quartile e dell'_InterQuantile Range_)."
   ]
  },
  {
   "cell_type": "code",
   "execution_count": 22,
   "id": "033509fc",
   "metadata": {
    "scrolled": false
   },
   "outputs": [
    {
     "data": {
      "image/png": "[encoded data removed]",
      "text/plain": [
       "<Figure size 1152x504 with 4 Axes>"
      ]
     },
     "metadata": {
      "needs_background": "light"
     },
     "output_type": "display_data"
    }
   ],
   "source": [
    "plt.figure(figsize=(16, 7))\n",
    "plt.subplot(1, 4, 1)\n",
    "bp[\"gripForce\"].plot.box(showmeans=True)\n",
    "plt.subplot(1, 4, 2)\n",
    "bp[\"sit and bend forward_cm\"].plot.box(showmeans=True)\n",
    "plt.subplot(1, 4, 3)\n",
    "bp[\"sit-ups counts\"].plot.box(showmeans=True)\n",
    "plt.subplot(1, 4, 4)\n",
    "bp[\"broad jump_cm\"].plot.box(showmeans=True)\n",
    "plt.show()"
   ]
  },
  {
   "cell_type": "markdown",
   "id": "8ee022aa",
   "metadata": {},
   "source": [
    "Verifichiamo se questi due esercizi sono determinanti nella definizione della condizione fisica dell'atleta."
   ]
  },
  {
   "cell_type": "code",
   "execution_count": 23,
   "id": "3739d423",
   "metadata": {
    "scrolled": false
   },
   "outputs": [
    {
     "data": {
      "text/plain": [
       "<AxesSubplot:xlabel='sit and bend forward_cm', ylabel='broad jump_cm'>"
      ]
     },
     "execution_count": 23,
     "metadata": {},
     "output_type": "execute_result"
    },
    {
     "data": {
      "image/png": "[encoded data removed]",
      "text/plain": [
       "<Figure size 1080x576 with 2 Axes>"
      ]
     },
     "metadata": {
      "needs_background": "light"
     },
     "output_type": "display_data"
    }
   ],
   "source": [
    "bp.plot.scatter(\"sit and bend forward_cm\", \"broad jump_cm\",\n",
    "                c=\"class\", colormap=\"viridis\", figsize=(15,8))"
   ]
  },
  {
   "cell_type": "markdown",
   "id": "df76e3f9",
   "metadata": {},
   "source": [
    "Come evidenzia il grafico, la classe di condizione fisica dell'atleta varia principalmente seguendo l'asse delle ascisse. Si può dedurre che la classe sia altamente correlata alla feature **`sit and bend forward_cm`**, più è alto il risultato dell'esercizio, più è probabile che la condizione fisica sia migliore."
   ]
  },
  {
   "cell_type": "markdown",
   "id": "b3a83fcb",
   "metadata": {},
   "source": [
    "Utilizzando la funzione `corr` possiamo ottenere la **correlazione** delle feature con ciascuna delle altre. In particolare, visualizziamo la correlazione delle feature con la variabile target."
   ]
  },
  {
   "cell_type": "code",
   "execution_count": 24,
   "id": "b6976809",
   "metadata": {
    "scrolled": false
   },
   "outputs": [
    {
     "data": {
      "text/plain": [
       "class                      1.000000\n",
       "bmi                       -0.277046\n",
       "age                       -0.065358\n",
       "gender                    -0.076320\n",
       "height_cm                 -0.038462\n",
       "weight_kg                 -0.215613\n",
       "body fat_%                -0.343360\n",
       "diastolic                 -0.067247\n",
       "systolic                  -0.035759\n",
       "gripForce                  0.136010\n",
       "sit and bend forward_cm    0.607166\n",
       "sit-ups counts             0.452516\n",
       "broad jump_cm              0.261535\n",
       "Name: class, dtype: float64"
      ]
     },
     "execution_count": 24,
     "metadata": {},
     "output_type": "execute_result"
    }
   ],
   "source": [
    "bp.corr().iloc[0]"
   ]
  },
  {
   "cell_type": "markdown",
   "id": "d7c83726",
   "metadata": {},
   "source": [
    "Come osservato precedentemente, la feature **`sit and bend forward_cm`** è quella con la correlazione più alta, ma anche gli altri esercizi fisici sono importanti per la determinazione della classe. Al contrario, notiamo che feature come l'età (`age`), il genere (`gender`), l'altezza (`height_cm`) e la pressione sanguigna (`diastolic` e `systolic`) non risultino molto rilevanti. Infine, viene evidenziato come il **BMI** (nuova feature aggiunta) abbia una correlazione maggiore (in valore assoluto) di altezza e peso, quindi decidiamo di non eliminare la feature aggiunta in quanto potrebbe rivelarsi utile."
   ]
  },
  {
   "cell_type": "markdown",
   "id": "c4d0af90",
   "metadata": {},
   "source": [
    "## Preprocessing dei dati"
   ]
  },
  {
   "cell_type": "code",
   "execution_count": 25,
   "id": "3cccb2d1",
   "metadata": {},
   "outputs": [
    {
     "name": "stdout",
     "output_type": "stream",
     "text": [
      "<class 'pandas.core.frame.DataFrame'>\n",
      "Int64Index: 13360 entries, 0 to 13392\n",
      "Data columns (total 13 columns):\n",
      " #   Column                   Non-Null Count  Dtype  \n",
      "---  ------                   --------------  -----  \n",
      " 0   class                    13360 non-null  int64  \n",
      " 1   bmi                      13360 non-null  float64\n",
      " 2   age                      13360 non-null  float64\n",
      " 3   gender                   13360 non-null  int64  \n",
      " 4   height_cm                13360 non-null  float64\n",
      " 5   weight_kg                13360 non-null  float64\n",
      " 6   body fat_%               13360 non-null  float64\n",
      " 7   diastolic                13360 non-null  float64\n",
      " 8   systolic                 13360 non-null  float64\n",
      " 9   gripForce                13360 non-null  float64\n",
      " 10  sit and bend forward_cm  13360 non-null  float64\n",
      " 11  sit-ups counts           13360 non-null  float64\n",
      " 12  broad jump_cm            13360 non-null  float64\n",
      "dtypes: float64(11), int64(2)\n",
      "memory usage: 1.9 MB\n"
     ]
    }
   ],
   "source": [
    "bp.info(memory_usage=\"deep\")"
   ]
  },
  {
   "cell_type": "markdown",
   "id": "932c675d",
   "metadata": {},
   "source": [
    "Notiamo che le feature `class` e `gender` non sono state lette come categoriche, quindi le modifichiamo."
   ]
  },
  {
   "cell_type": "code",
   "execution_count": 26,
   "id": "4904cf94",
   "metadata": {},
   "outputs": [
    {
     "name": "stdout",
     "output_type": "stream",
     "text": [
      "<class 'pandas.core.frame.DataFrame'>\n",
      "Int64Index: 13360 entries, 0 to 13392\n",
      "Columns: 13 entries, class to broad jump_cm\n",
      "dtypes: category(2), float64(11)\n",
      "memory usage: 1.8 MB\n"
     ]
    }
   ],
   "source": [
    "bp[[\"class\"] + [\"gender\"]] = bp[[\"class\"] + [\"gender\"]].astype(\"category\")\n",
    "bp.info(verbose=False, memory_usage=\"deep\")"
   ]
  },
  {
   "cell_type": "markdown",
   "id": "dac821a3",
   "metadata": {},
   "source": [
    "Dato che le feature discrete sono solo due, il risparmio di memoria risulta solo di 0.1 MB."
   ]
  },
  {
   "cell_type": "markdown",
   "id": "29979de1",
   "metadata": {},
   "source": [
    "Come prima cosa, dividiamo il dataset in **training set** e **validation set** utilizzando la funzione `train_test_split` che ci permette di impostare la grandezza dei set e un seed per la randomizzazione."
   ]
  },
  {
   "cell_type": "code",
   "execution_count": 27,
   "id": "8c3c4b18",
   "metadata": {},
   "outputs": [],
   "source": [
    "from sklearn.model_selection import train_test_split"
   ]
  },
  {
   "cell_type": "code",
   "execution_count": 28,
   "id": "47cf51ce",
   "metadata": {},
   "outputs": [],
   "source": [
    "X = bp.drop(columns=\"class\")\n",
    "y = bp[\"class\"]\n",
    "X_train, X_val, y_train, y_val = train_test_split(X, y, test_size=1/3, random_state=42)"
   ]
  },
  {
   "cell_type": "code",
   "execution_count": 29,
   "id": "d1a79a48",
   "metadata": {
    "scrolled": true
   },
   "outputs": [
    {
     "name": "stdout",
     "output_type": "stream",
     "text": [
      "(8906, 12) (4454, 12)\n"
     ]
    }
   ],
   "source": [
    "print(X_train.shape, X_val.shape)"
   ]
  },
  {
   "cell_type": "markdown",
   "id": "7605474d",
   "metadata": {},
   "source": [
    "## Algoritmi di classificazione   \n",
    "In questa sezione verranno utilizzati i principali algoritmi di classificazione visti a lezione; verrà creato un vettore che conterrrà tutti i modelli in modo da poterli confrontare più facilmente alla fine."
   ]
  },
  {
   "cell_type": "markdown",
   "id": "3ce48855",
   "metadata": {},
   "source": [
    "### Perceptron"
   ]
  },
  {
   "cell_type": "code",
   "execution_count": 30,
   "id": "b410154b",
   "metadata": {},
   "outputs": [],
   "source": [
    "from sklearn.linear_model import Perceptron"
   ]
  },
  {
   "cell_type": "markdown",
   "id": "d332d876",
   "metadata": {},
   "source": [
    "Per creare un primo modello utilizziamo un semplice **Perceptron** senza standardizzazione e regolarizzazione (le quali verranno introdotte successivamente con l'utilizzo delle `Pipeline`)."
   ]
  },
  {
   "cell_type": "code",
   "execution_count": 31,
   "id": "2ccf19ed",
   "metadata": {},
   "outputs": [
    {
     "data": {
      "text/plain": [
       "0.42860350246969015"
      ]
     },
     "execution_count": 31,
     "metadata": {},
     "output_type": "execute_result"
    }
   ],
   "source": [
    "model = Perceptron(random_state=42)\n",
    "model.fit(X_train, y_train)\n",
    "model.score(X_val, y_val)"
   ]
  },
  {
   "cell_type": "markdown",
   "id": "48af54c6",
   "metadata": {},
   "source": [
    "Otteniamo un modello con una percentuale di istanze corrette del **43%** circa, è un risultato migliore della classificazione casuale (25%, dato che abbiamo 4 classi) ma è sicuramente un risultato migliorabile."
   ]
  },
  {
   "cell_type": "markdown",
   "id": "3e599521",
   "metadata": {},
   "source": [
    "Introduciamo le Pipeline per poter applicare la **standardizzazione** utilizzando uno `StandardScaler`."
   ]
  },
  {
   "cell_type": "code",
   "execution_count": 32,
   "id": "980a2b99",
   "metadata": {},
   "outputs": [],
   "source": [
    "from sklearn.preprocessing import StandardScaler\n",
    "from sklearn.pipeline import Pipeline"
   ]
  },
  {
   "cell_type": "code",
   "execution_count": 33,
   "id": "56db19ce",
   "metadata": {},
   "outputs": [
    {
     "data": {
      "text/plain": [
       "0.48652896273013024"
      ]
     },
     "execution_count": 33,
     "metadata": {},
     "output_type": "execute_result"
    }
   ],
   "source": [
    "model = Pipeline([\n",
    "    (\"scaler\", StandardScaler()),\n",
    "    (\"cl\", Perceptron(random_state=42))\n",
    "])\n",
    "model.fit(X_train, y_train)\n",
    "model.score(X_val, y_val)"
   ]
  },
  {
   "cell_type": "markdown",
   "id": "fb7e657b",
   "metadata": {},
   "source": [
    "Otteniamo in questo modo un modello con uno score più alto di quello precedente (**~49%**) ma è comunque un risultato insoddisfacente. Tentiamo di migliorare il modello cercando il parametro **alpha** migliore per una **regolarizzazione l1**."
   ]
  },
  {
   "cell_type": "code",
   "execution_count": 34,
   "id": "e3ec978e",
   "metadata": {},
   "outputs": [
    {
     "name": "stdout",
     "output_type": "stream",
     "text": [
      "Alpha = 1e-05 Score: 0.4791198922317018\n",
      "Alpha = 0.0001 Score: 0.502694207453974\n",
      "Alpha = 0.001 Score: 0.4625056129321958\n",
      "Alpha = 0.01 Score: 0.4357880556802874\n",
      "Alpha = 0.1 Score: 0.2633587786259542\n",
      "Alpha = 1.0 Score: 0.24315222272114953\n"
     ]
    }
   ],
   "source": [
    "for alpha in np.logspace(-5, 0, 6):\n",
    "    model = Pipeline([\n",
    "        (\"scaler\", StandardScaler()),\n",
    "        (\"cl\", Perceptron(penalty=\"l1\", alpha=alpha, random_state=42))\n",
    "    ])\n",
    "    model.fit(X_train, y_train)\n",
    "    print(\"Alpha = \" + str(alpha) + \" Score: \" + str(model.score(X_val, y_val)))"
   ]
  },
  {
   "cell_type": "markdown",
   "id": "edc2238e",
   "metadata": {},
   "source": [
    "Notiamo che con l'insermimento della regolarizzazione l1 con parametro alpha=**0.0001** si ottiene un modello con una precisione del **~50%**."
   ]
  },
  {
   "cell_type": "markdown",
   "id": "1bdbd9a6",
   "metadata": {},
   "source": [
    "Per migliorare gli iperparametri utilizzati, ci serviamo della **Grid Search** applicando la **stratified k-fold cross validation** per mantenere il bilanciamento delle classi."
   ]
  },
  {
   "cell_type": "code",
   "execution_count": 35,
   "id": "8d914fa2",
   "metadata": {},
   "outputs": [],
   "source": [
    "from sklearn.model_selection import StratifiedKFold\n",
    "from sklearn.model_selection import GridSearchCV"
   ]
  },
  {
   "cell_type": "code",
   "execution_count": 36,
   "id": "8ec2eed6",
   "metadata": {},
   "outputs": [],
   "source": [
    "skf = StratifiedKFold(4, shuffle=True, random_state=42)"
   ]
  },
  {
   "cell_type": "markdown",
   "id": "91ba1b9a",
   "metadata": {},
   "source": [
    "Dato che la Grid Search verrà utilizzata per diversi modelli, creiamo una funzione da poter applicare ogni volta."
   ]
  },
  {
   "cell_type": "code",
   "execution_count": 37,
   "id": "d40e3637",
   "metadata": {},
   "outputs": [],
   "source": [
    "def grid_score(model, grid):\n",
    "    model = GridSearchCV(model, grid, cv=skf)\n",
    "    model.fit(X_train, y_train)\n",
    "    print(\"Best score: \" + str(model.score(X_val, y_val)))\n",
    "    return model"
   ]
  },
  {
   "cell_type": "markdown",
   "id": "85d2e34d",
   "metadata": {},
   "source": [
    "Proviamo a migliorare ulteriormente il risultato ottenuto precedentemente aggiungendo **feature polinomiali** fino al grado 3 (compreso)."
   ]
  },
  {
   "cell_type": "code",
   "execution_count": 38,
   "id": "c59c1215",
   "metadata": {},
   "outputs": [],
   "source": [
    "from sklearn.preprocessing import PolynomialFeatures\n",
    "models = {}"
   ]
  },
  {
   "cell_type": "code",
   "execution_count": 39,
   "id": "bb920df6",
   "metadata": {},
   "outputs": [
    {
     "name": "stdout",
     "output_type": "stream",
     "text": [
      "Best score: 0.583969465648855\n"
     ]
    }
   ],
   "source": [
    "model = Pipeline([\n",
    "    (\"scaler\", None),\n",
    "    (\"poly\", PolynomialFeatures(include_bias=False)),\n",
    "    (\"cl\", Perceptron(random_state=42))\n",
    "])\n",
    "grid = [\n",
    "    {\n",
    "        \"scaler\": [None, StandardScaler()],\n",
    "        \"poly__degree\": range(1, 4),\n",
    "        \"cl__penalty\": [\"none\"],\n",
    "        \"cl__fit_intercept\": [True, False]\n",
    "    },\n",
    "    {\n",
    "        \"scaler\": [None, StandardScaler()],\n",
    "        \"poly__degree\": range(1, 4),\n",
    "        \"cl__penalty\": [\"l2\", \"l1\"],\n",
    "        \"cl__alpha\": np.logspace(-5, -1, 5),\n",
    "        \"cl__fit_intercept\": [True, False]\n",
    "    }\n",
    "]\n",
    "models[\"perceptron\"] = grid_score(model, grid)"
   ]
  },
  {
   "cell_type": "markdown",
   "id": "cfe4a07f",
   "metadata": {},
   "source": [
    "Come si può notare anche dall'istruzione successiva, siamo riusciti a migliorare lo score ottenuto (**~58%**) precedentemente grazie alle feature polinomiali di **grado 3**, in aggiunta alle migliorie precedenti come la **standardizzazione** e la **regolarizzazione l1** con **alpha=1e-05**."
   ]
  },
  {
   "cell_type": "code",
   "execution_count": 40,
   "id": "fed35095",
   "metadata": {
    "scrolled": true
   },
   "outputs": [
    {
     "data": {
      "text/plain": [
       "{'cl__alpha': 1e-05,\n",
       " 'cl__fit_intercept': False,\n",
       " 'cl__penalty': 'l1',\n",
       " 'poly__degree': 3,\n",
       " 'scaler': StandardScaler()}"
      ]
     },
     "execution_count": 40,
     "metadata": {},
     "output_type": "execute_result"
    }
   ],
   "source": [
    "models[\"perceptron\"].best_params_"
   ]
  },
  {
   "cell_type": "markdown",
   "id": "e47209f2",
   "metadata": {},
   "source": [
    "### Logistic Regression"
   ]
  },
  {
   "cell_type": "markdown",
   "id": "26526d05",
   "metadata": {},
   "source": [
    "In questo paragrafo utilizziamo l'algoritmo di **Regressione Logistica** con classificazione **multiclasse** (`multinomial` nel codice) per trovare un modello migliore del Perceptron.    \n",
    "(`solver=\"saga\"` è uno degli algoritmi più veloci per ottimizzare l'esecuzione di dataset grandi e supporta la regolarizzazione elastic net)"
   ]
  },
  {
   "cell_type": "code",
   "execution_count": 41,
   "id": "a13d9996",
   "metadata": {},
   "outputs": [],
   "source": [
    "from sklearn.linear_model import LogisticRegression"
   ]
  },
  {
   "cell_type": "code",
   "execution_count": 42,
   "id": "7ce6a3b9",
   "metadata": {},
   "outputs": [
    {
     "name": "stderr",
     "output_type": "stream",
     "text": [
      "C:\\Users\\ciaci\\anaconda3\\lib\\site-packages\\sklearn\\linear_model\\_sag.py:328: ConvergenceWarning: The max_iter was reached which means the coef_ did not converge\n",
      "  warnings.warn(\"The max_iter was reached which means \"\n",
      "C:\\Users\\ciaci\\anaconda3\\lib\\site-packages\\sklearn\\linear_model\\_sag.py:328: ConvergenceWarning: The max_iter was reached which means the coef_ did not converge\n",
      "  warnings.warn(\"The max_iter was reached which means \"\n",
      "C:\\Users\\ciaci\\anaconda3\\lib\\site-packages\\sklearn\\linear_model\\_sag.py:328: ConvergenceWarning: The max_iter was reached which means the coef_ did not converge\n",
      "  warnings.warn(\"The max_iter was reached which means \"\n",
      "C:\\Users\\ciaci\\anaconda3\\lib\\site-packages\\sklearn\\linear_model\\_sag.py:328: ConvergenceWarning: The max_iter was reached which means the coef_ did not converge\n",
      "  warnings.warn(\"The max_iter was reached which means \"\n",
      "C:\\Users\\ciaci\\anaconda3\\lib\\site-packages\\sklearn\\linear_model\\_sag.py:328: ConvergenceWarning: The max_iter was reached which means the coef_ did not converge\n",
      "  warnings.warn(\"The max_iter was reached which means \"\n",
      "C:\\Users\\ciaci\\anaconda3\\lib\\site-packages\\sklearn\\linear_model\\_sag.py:328: ConvergenceWarning: The max_iter was reached which means the coef_ did not converge\n",
      "  warnings.warn(\"The max_iter was reached which means \"\n",
      "C:\\Users\\ciaci\\anaconda3\\lib\\site-packages\\sklearn\\linear_model\\_sag.py:328: ConvergenceWarning: The max_iter was reached which means the coef_ did not converge\n",
      "  warnings.warn(\"The max_iter was reached which means \"\n",
      "C:\\Users\\ciaci\\anaconda3\\lib\\site-packages\\sklearn\\linear_model\\_sag.py:328: ConvergenceWarning: The max_iter was reached which means the coef_ did not converge\n",
      "  warnings.warn(\"The max_iter was reached which means \"\n",
      "C:\\Users\\ciaci\\anaconda3\\lib\\site-packages\\sklearn\\linear_model\\_sag.py:328: ConvergenceWarning: The max_iter was reached which means the coef_ did not converge\n",
      "  warnings.warn(\"The max_iter was reached which means \"\n",
      "C:\\Users\\ciaci\\anaconda3\\lib\\site-packages\\sklearn\\linear_model\\_sag.py:328: ConvergenceWarning: The max_iter was reached which means the coef_ did not converge\n",
      "  warnings.warn(\"The max_iter was reached which means \"\n",
      "C:\\Users\\ciaci\\anaconda3\\lib\\site-packages\\sklearn\\linear_model\\_sag.py:328: ConvergenceWarning: The max_iter was reached which means the coef_ did not converge\n",
      "  warnings.warn(\"The max_iter was reached which means \"\n",
      "C:\\Users\\ciaci\\anaconda3\\lib\\site-packages\\sklearn\\linear_model\\_sag.py:328: ConvergenceWarning: The max_iter was reached which means the coef_ did not converge\n",
      "  warnings.warn(\"The max_iter was reached which means \"\n",
      "C:\\Users\\ciaci\\anaconda3\\lib\\site-packages\\sklearn\\linear_model\\_sag.py:328: ConvergenceWarning: The max_iter was reached which means the coef_ did not converge\n",
      "  warnings.warn(\"The max_iter was reached which means \"\n",
      "C:\\Users\\ciaci\\anaconda3\\lib\\site-packages\\sklearn\\linear_model\\_sag.py:328: ConvergenceWarning: The max_iter was reached which means the coef_ did not converge\n",
      "  warnings.warn(\"The max_iter was reached which means \"\n",
      "C:\\Users\\ciaci\\anaconda3\\lib\\site-packages\\sklearn\\linear_model\\_sag.py:328: ConvergenceWarning: The max_iter was reached which means the coef_ did not converge\n",
      "  warnings.warn(\"The max_iter was reached which means \"\n",
      "C:\\Users\\ciaci\\anaconda3\\lib\\site-packages\\sklearn\\linear_model\\_sag.py:328: ConvergenceWarning: The max_iter was reached which means the coef_ did not converge\n",
      "  warnings.warn(\"The max_iter was reached which means \"\n",
      "C:\\Users\\ciaci\\anaconda3\\lib\\site-packages\\sklearn\\linear_model\\_sag.py:328: ConvergenceWarning: The max_iter was reached which means the coef_ did not converge\n",
      "  warnings.warn(\"The max_iter was reached which means \"\n",
      "C:\\Users\\ciaci\\anaconda3\\lib\\site-packages\\sklearn\\linear_model\\_sag.py:328: ConvergenceWarning: The max_iter was reached which means the coef_ did not converge\n",
      "  warnings.warn(\"The max_iter was reached which means \"\n",
      "C:\\Users\\ciaci\\anaconda3\\lib\\site-packages\\sklearn\\linear_model\\_sag.py:328: ConvergenceWarning: The max_iter was reached which means the coef_ did not converge\n",
      "  warnings.warn(\"The max_iter was reached which means \"\n",
      "C:\\Users\\ciaci\\anaconda3\\lib\\site-packages\\sklearn\\linear_model\\_sag.py:328: ConvergenceWarning: The max_iter was reached which means the coef_ did not converge\n",
      "  warnings.warn(\"The max_iter was reached which means \"\n",
      "C:\\Users\\ciaci\\anaconda3\\lib\\site-packages\\sklearn\\linear_model\\_sag.py:328: ConvergenceWarning: The max_iter was reached which means the coef_ did not converge\n",
      "  warnings.warn(\"The max_iter was reached which means \"\n",
      "C:\\Users\\ciaci\\anaconda3\\lib\\site-packages\\sklearn\\linear_model\\_sag.py:328: ConvergenceWarning: The max_iter was reached which means the coef_ did not converge\n",
      "  warnings.warn(\"The max_iter was reached which means \"\n",
      "C:\\Users\\ciaci\\anaconda3\\lib\\site-packages\\sklearn\\linear_model\\_sag.py:328: ConvergenceWarning: The max_iter was reached which means the coef_ did not converge\n",
      "  warnings.warn(\"The max_iter was reached which means \"\n",
      "C:\\Users\\ciaci\\anaconda3\\lib\\site-packages\\sklearn\\linear_model\\_sag.py:328: ConvergenceWarning: The max_iter was reached which means the coef_ did not converge\n",
      "  warnings.warn(\"The max_iter was reached which means \"\n",
      "C:\\Users\\ciaci\\anaconda3\\lib\\site-packages\\sklearn\\linear_model\\_sag.py:328: ConvergenceWarning: The max_iter was reached which means the coef_ did not converge\n",
      "  warnings.warn(\"The max_iter was reached which means \"\n",
      "C:\\Users\\ciaci\\anaconda3\\lib\\site-packages\\sklearn\\linear_model\\_sag.py:328: ConvergenceWarning: The max_iter was reached which means the coef_ did not converge\n",
      "  warnings.warn(\"The max_iter was reached which means \"\n",
      "C:\\Users\\ciaci\\anaconda3\\lib\\site-packages\\sklearn\\linear_model\\_sag.py:328: ConvergenceWarning: The max_iter was reached which means the coef_ did not converge\n",
      "  warnings.warn(\"The max_iter was reached which means \"\n",
      "C:\\Users\\ciaci\\anaconda3\\lib\\site-packages\\sklearn\\linear_model\\_sag.py:328: ConvergenceWarning: The max_iter was reached which means the coef_ did not converge\n",
      "  warnings.warn(\"The max_iter was reached which means \"\n",
      "C:\\Users\\ciaci\\anaconda3\\lib\\site-packages\\sklearn\\linear_model\\_sag.py:328: ConvergenceWarning: The max_iter was reached which means the coef_ did not converge\n",
      "  warnings.warn(\"The max_iter was reached which means \"\n",
      "C:\\Users\\ciaci\\anaconda3\\lib\\site-packages\\sklearn\\linear_model\\_sag.py:328: ConvergenceWarning: The max_iter was reached which means the coef_ did not converge\n",
      "  warnings.warn(\"The max_iter was reached which means \"\n",
      "C:\\Users\\ciaci\\anaconda3\\lib\\site-packages\\sklearn\\linear_model\\_sag.py:328: ConvergenceWarning: The max_iter was reached which means the coef_ did not converge\n",
      "  warnings.warn(\"The max_iter was reached which means \"\n",
      "C:\\Users\\ciaci\\anaconda3\\lib\\site-packages\\sklearn\\linear_model\\_sag.py:328: ConvergenceWarning: The max_iter was reached which means the coef_ did not converge\n",
      "  warnings.warn(\"The max_iter was reached which means \"\n",
      "C:\\Users\\ciaci\\anaconda3\\lib\\site-packages\\sklearn\\linear_model\\_sag.py:328: ConvergenceWarning: The max_iter was reached which means the coef_ did not converge\n",
      "  warnings.warn(\"The max_iter was reached which means \"\n",
      "C:\\Users\\ciaci\\anaconda3\\lib\\site-packages\\sklearn\\linear_model\\_sag.py:328: ConvergenceWarning: The max_iter was reached which means the coef_ did not converge\n",
      "  warnings.warn(\"The max_iter was reached which means \"\n",
      "C:\\Users\\ciaci\\anaconda3\\lib\\site-packages\\sklearn\\linear_model\\_sag.py:328: ConvergenceWarning: The max_iter was reached which means the coef_ did not converge\n",
      "  warnings.warn(\"The max_iter was reached which means \"\n",
      "C:\\Users\\ciaci\\anaconda3\\lib\\site-packages\\sklearn\\linear_model\\_sag.py:328: ConvergenceWarning: The max_iter was reached which means the coef_ did not converge\n",
      "  warnings.warn(\"The max_iter was reached which means \"\n",
      "C:\\Users\\ciaci\\anaconda3\\lib\\site-packages\\sklearn\\linear_model\\_sag.py:328: ConvergenceWarning: The max_iter was reached which means the coef_ did not converge\n",
      "  warnings.warn(\"The max_iter was reached which means \"\n",
      "C:\\Users\\ciaci\\anaconda3\\lib\\site-packages\\sklearn\\linear_model\\_sag.py:328: ConvergenceWarning: The max_iter was reached which means the coef_ did not converge\n",
      "  warnings.warn(\"The max_iter was reached which means \"\n"
     ]
    },
    {
     "name": "stderr",
     "output_type": "stream",
     "text": [
      "C:\\Users\\ciaci\\anaconda3\\lib\\site-packages\\sklearn\\linear_model\\_sag.py:328: ConvergenceWarning: The max_iter was reached which means the coef_ did not converge\n",
      "  warnings.warn(\"The max_iter was reached which means \"\n",
      "C:\\Users\\ciaci\\anaconda3\\lib\\site-packages\\sklearn\\linear_model\\_sag.py:328: ConvergenceWarning: The max_iter was reached which means the coef_ did not converge\n",
      "  warnings.warn(\"The max_iter was reached which means \"\n",
      "C:\\Users\\ciaci\\anaconda3\\lib\\site-packages\\sklearn\\linear_model\\_sag.py:328: ConvergenceWarning: The max_iter was reached which means the coef_ did not converge\n",
      "  warnings.warn(\"The max_iter was reached which means \"\n",
      "C:\\Users\\ciaci\\anaconda3\\lib\\site-packages\\sklearn\\linear_model\\_sag.py:328: ConvergenceWarning: The max_iter was reached which means the coef_ did not converge\n",
      "  warnings.warn(\"The max_iter was reached which means \"\n",
      "C:\\Users\\ciaci\\anaconda3\\lib\\site-packages\\sklearn\\linear_model\\_sag.py:328: ConvergenceWarning: The max_iter was reached which means the coef_ did not converge\n",
      "  warnings.warn(\"The max_iter was reached which means \"\n",
      "C:\\Users\\ciaci\\anaconda3\\lib\\site-packages\\sklearn\\linear_model\\_sag.py:328: ConvergenceWarning: The max_iter was reached which means the coef_ did not converge\n",
      "  warnings.warn(\"The max_iter was reached which means \"\n",
      "C:\\Users\\ciaci\\anaconda3\\lib\\site-packages\\sklearn\\linear_model\\_sag.py:328: ConvergenceWarning: The max_iter was reached which means the coef_ did not converge\n",
      "  warnings.warn(\"The max_iter was reached which means \"\n",
      "C:\\Users\\ciaci\\anaconda3\\lib\\site-packages\\sklearn\\linear_model\\_sag.py:328: ConvergenceWarning: The max_iter was reached which means the coef_ did not converge\n",
      "  warnings.warn(\"The max_iter was reached which means \"\n",
      "C:\\Users\\ciaci\\anaconda3\\lib\\site-packages\\sklearn\\linear_model\\_sag.py:328: ConvergenceWarning: The max_iter was reached which means the coef_ did not converge\n",
      "  warnings.warn(\"The max_iter was reached which means \"\n",
      "C:\\Users\\ciaci\\anaconda3\\lib\\site-packages\\sklearn\\linear_model\\_sag.py:328: ConvergenceWarning: The max_iter was reached which means the coef_ did not converge\n",
      "  warnings.warn(\"The max_iter was reached which means \"\n",
      "C:\\Users\\ciaci\\anaconda3\\lib\\site-packages\\sklearn\\linear_model\\_sag.py:328: ConvergenceWarning: The max_iter was reached which means the coef_ did not converge\n",
      "  warnings.warn(\"The max_iter was reached which means \"\n",
      "C:\\Users\\ciaci\\anaconda3\\lib\\site-packages\\sklearn\\linear_model\\_sag.py:328: ConvergenceWarning: The max_iter was reached which means the coef_ did not converge\n",
      "  warnings.warn(\"The max_iter was reached which means \"\n",
      "C:\\Users\\ciaci\\anaconda3\\lib\\site-packages\\sklearn\\linear_model\\_sag.py:328: ConvergenceWarning: The max_iter was reached which means the coef_ did not converge\n",
      "  warnings.warn(\"The max_iter was reached which means \"\n",
      "C:\\Users\\ciaci\\anaconda3\\lib\\site-packages\\sklearn\\linear_model\\_sag.py:328: ConvergenceWarning: The max_iter was reached which means the coef_ did not converge\n",
      "  warnings.warn(\"The max_iter was reached which means \"\n",
      "C:\\Users\\ciaci\\anaconda3\\lib\\site-packages\\sklearn\\linear_model\\_sag.py:328: ConvergenceWarning: The max_iter was reached which means the coef_ did not converge\n",
      "  warnings.warn(\"The max_iter was reached which means \"\n",
      "C:\\Users\\ciaci\\anaconda3\\lib\\site-packages\\sklearn\\linear_model\\_sag.py:328: ConvergenceWarning: The max_iter was reached which means the coef_ did not converge\n",
      "  warnings.warn(\"The max_iter was reached which means \"\n",
      "C:\\Users\\ciaci\\anaconda3\\lib\\site-packages\\sklearn\\linear_model\\_sag.py:328: ConvergenceWarning: The max_iter was reached which means the coef_ did not converge\n",
      "  warnings.warn(\"The max_iter was reached which means \"\n",
      "C:\\Users\\ciaci\\anaconda3\\lib\\site-packages\\sklearn\\linear_model\\_sag.py:328: ConvergenceWarning: The max_iter was reached which means the coef_ did not converge\n",
      "  warnings.warn(\"The max_iter was reached which means \"\n",
      "C:\\Users\\ciaci\\anaconda3\\lib\\site-packages\\sklearn\\linear_model\\_sag.py:328: ConvergenceWarning: The max_iter was reached which means the coef_ did not converge\n",
      "  warnings.warn(\"The max_iter was reached which means \"\n",
      "C:\\Users\\ciaci\\anaconda3\\lib\\site-packages\\sklearn\\linear_model\\_sag.py:328: ConvergenceWarning: The max_iter was reached which means the coef_ did not converge\n",
      "  warnings.warn(\"The max_iter was reached which means \"\n",
      "C:\\Users\\ciaci\\anaconda3\\lib\\site-packages\\sklearn\\linear_model\\_sag.py:328: ConvergenceWarning: The max_iter was reached which means the coef_ did not converge\n",
      "  warnings.warn(\"The max_iter was reached which means \"\n",
      "C:\\Users\\ciaci\\anaconda3\\lib\\site-packages\\sklearn\\linear_model\\_sag.py:328: ConvergenceWarning: The max_iter was reached which means the coef_ did not converge\n",
      "  warnings.warn(\"The max_iter was reached which means \"\n",
      "C:\\Users\\ciaci\\anaconda3\\lib\\site-packages\\sklearn\\linear_model\\_sag.py:328: ConvergenceWarning: The max_iter was reached which means the coef_ did not converge\n",
      "  warnings.warn(\"The max_iter was reached which means \"\n",
      "C:\\Users\\ciaci\\anaconda3\\lib\\site-packages\\sklearn\\linear_model\\_sag.py:328: ConvergenceWarning: The max_iter was reached which means the coef_ did not converge\n",
      "  warnings.warn(\"The max_iter was reached which means \"\n",
      "C:\\Users\\ciaci\\anaconda3\\lib\\site-packages\\sklearn\\linear_model\\_sag.py:328: ConvergenceWarning: The max_iter was reached which means the coef_ did not converge\n",
      "  warnings.warn(\"The max_iter was reached which means \"\n",
      "C:\\Users\\ciaci\\anaconda3\\lib\\site-packages\\sklearn\\linear_model\\_sag.py:328: ConvergenceWarning: The max_iter was reached which means the coef_ did not converge\n",
      "  warnings.warn(\"The max_iter was reached which means \"\n",
      "C:\\Users\\ciaci\\anaconda3\\lib\\site-packages\\sklearn\\linear_model\\_sag.py:328: ConvergenceWarning: The max_iter was reached which means the coef_ did not converge\n",
      "  warnings.warn(\"The max_iter was reached which means \"\n",
      "C:\\Users\\ciaci\\anaconda3\\lib\\site-packages\\sklearn\\linear_model\\_sag.py:328: ConvergenceWarning: The max_iter was reached which means the coef_ did not converge\n",
      "  warnings.warn(\"The max_iter was reached which means \"\n",
      "C:\\Users\\ciaci\\anaconda3\\lib\\site-packages\\sklearn\\linear_model\\_sag.py:328: ConvergenceWarning: The max_iter was reached which means the coef_ did not converge\n",
      "  warnings.warn(\"The max_iter was reached which means \"\n",
      "C:\\Users\\ciaci\\anaconda3\\lib\\site-packages\\sklearn\\linear_model\\_sag.py:328: ConvergenceWarning: The max_iter was reached which means the coef_ did not converge\n",
      "  warnings.warn(\"The max_iter was reached which means \"\n",
      "C:\\Users\\ciaci\\anaconda3\\lib\\site-packages\\sklearn\\linear_model\\_sag.py:328: ConvergenceWarning: The max_iter was reached which means the coef_ did not converge\n",
      "  warnings.warn(\"The max_iter was reached which means \"\n",
      "C:\\Users\\ciaci\\anaconda3\\lib\\site-packages\\sklearn\\linear_model\\_sag.py:328: ConvergenceWarning: The max_iter was reached which means the coef_ did not converge\n",
      "  warnings.warn(\"The max_iter was reached which means \"\n",
      "C:\\Users\\ciaci\\anaconda3\\lib\\site-packages\\sklearn\\linear_model\\_sag.py:328: ConvergenceWarning: The max_iter was reached which means the coef_ did not converge\n",
      "  warnings.warn(\"The max_iter was reached which means \"\n",
      "C:\\Users\\ciaci\\anaconda3\\lib\\site-packages\\sklearn\\linear_model\\_sag.py:328: ConvergenceWarning: The max_iter was reached which means the coef_ did not converge\n",
      "  warnings.warn(\"The max_iter was reached which means \"\n",
      "C:\\Users\\ciaci\\anaconda3\\lib\\site-packages\\sklearn\\linear_model\\_sag.py:328: ConvergenceWarning: The max_iter was reached which means the coef_ did not converge\n",
      "  warnings.warn(\"The max_iter was reached which means \"\n",
      "C:\\Users\\ciaci\\anaconda3\\lib\\site-packages\\sklearn\\linear_model\\_sag.py:328: ConvergenceWarning: The max_iter was reached which means the coef_ did not converge\n",
      "  warnings.warn(\"The max_iter was reached which means \"\n",
      "C:\\Users\\ciaci\\anaconda3\\lib\\site-packages\\sklearn\\linear_model\\_sag.py:328: ConvergenceWarning: The max_iter was reached which means the coef_ did not converge\n",
      "  warnings.warn(\"The max_iter was reached which means \"\n",
      "C:\\Users\\ciaci\\anaconda3\\lib\\site-packages\\sklearn\\linear_model\\_sag.py:328: ConvergenceWarning: The max_iter was reached which means the coef_ did not converge\n",
      "  warnings.warn(\"The max_iter was reached which means \"\n"
     ]
    },
    {
     "name": "stderr",
     "output_type": "stream",
     "text": [
      "C:\\Users\\ciaci\\anaconda3\\lib\\site-packages\\sklearn\\linear_model\\_sag.py:328: ConvergenceWarning: The max_iter was reached which means the coef_ did not converge\n",
      "  warnings.warn(\"The max_iter was reached which means \"\n",
      "C:\\Users\\ciaci\\anaconda3\\lib\\site-packages\\sklearn\\linear_model\\_sag.py:328: ConvergenceWarning: The max_iter was reached which means the coef_ did not converge\n",
      "  warnings.warn(\"The max_iter was reached which means \"\n",
      "C:\\Users\\ciaci\\anaconda3\\lib\\site-packages\\sklearn\\linear_model\\_sag.py:328: ConvergenceWarning: The max_iter was reached which means the coef_ did not converge\n",
      "  warnings.warn(\"The max_iter was reached which means \"\n",
      "C:\\Users\\ciaci\\anaconda3\\lib\\site-packages\\sklearn\\linear_model\\_sag.py:328: ConvergenceWarning: The max_iter was reached which means the coef_ did not converge\n",
      "  warnings.warn(\"The max_iter was reached which means \"\n",
      "C:\\Users\\ciaci\\anaconda3\\lib\\site-packages\\sklearn\\linear_model\\_sag.py:328: ConvergenceWarning: The max_iter was reached which means the coef_ did not converge\n",
      "  warnings.warn(\"The max_iter was reached which means \"\n",
      "C:\\Users\\ciaci\\anaconda3\\lib\\site-packages\\sklearn\\linear_model\\_sag.py:328: ConvergenceWarning: The max_iter was reached which means the coef_ did not converge\n",
      "  warnings.warn(\"The max_iter was reached which means \"\n",
      "C:\\Users\\ciaci\\anaconda3\\lib\\site-packages\\sklearn\\linear_model\\_sag.py:328: ConvergenceWarning: The max_iter was reached which means the coef_ did not converge\n",
      "  warnings.warn(\"The max_iter was reached which means \"\n",
      "C:\\Users\\ciaci\\anaconda3\\lib\\site-packages\\sklearn\\linear_model\\_sag.py:328: ConvergenceWarning: The max_iter was reached which means the coef_ did not converge\n",
      "  warnings.warn(\"The max_iter was reached which means \"\n",
      "C:\\Users\\ciaci\\anaconda3\\lib\\site-packages\\sklearn\\linear_model\\_sag.py:328: ConvergenceWarning: The max_iter was reached which means the coef_ did not converge\n",
      "  warnings.warn(\"The max_iter was reached which means \"\n",
      "C:\\Users\\ciaci\\anaconda3\\lib\\site-packages\\sklearn\\linear_model\\_sag.py:328: ConvergenceWarning: The max_iter was reached which means the coef_ did not converge\n",
      "  warnings.warn(\"The max_iter was reached which means \"\n",
      "C:\\Users\\ciaci\\anaconda3\\lib\\site-packages\\sklearn\\linear_model\\_sag.py:328: ConvergenceWarning: The max_iter was reached which means the coef_ did not converge\n",
      "  warnings.warn(\"The max_iter was reached which means \"\n",
      "C:\\Users\\ciaci\\anaconda3\\lib\\site-packages\\sklearn\\linear_model\\_sag.py:328: ConvergenceWarning: The max_iter was reached which means the coef_ did not converge\n",
      "  warnings.warn(\"The max_iter was reached which means \"\n",
      "C:\\Users\\ciaci\\anaconda3\\lib\\site-packages\\sklearn\\linear_model\\_sag.py:328: ConvergenceWarning: The max_iter was reached which means the coef_ did not converge\n",
      "  warnings.warn(\"The max_iter was reached which means \"\n",
      "C:\\Users\\ciaci\\anaconda3\\lib\\site-packages\\sklearn\\linear_model\\_sag.py:328: ConvergenceWarning: The max_iter was reached which means the coef_ did not converge\n",
      "  warnings.warn(\"The max_iter was reached which means \"\n",
      "C:\\Users\\ciaci\\anaconda3\\lib\\site-packages\\sklearn\\linear_model\\_sag.py:328: ConvergenceWarning: The max_iter was reached which means the coef_ did not converge\n",
      "  warnings.warn(\"The max_iter was reached which means \"\n",
      "C:\\Users\\ciaci\\anaconda3\\lib\\site-packages\\sklearn\\linear_model\\_sag.py:328: ConvergenceWarning: The max_iter was reached which means the coef_ did not converge\n",
      "  warnings.warn(\"The max_iter was reached which means \"\n",
      "C:\\Users\\ciaci\\anaconda3\\lib\\site-packages\\sklearn\\linear_model\\_sag.py:328: ConvergenceWarning: The max_iter was reached which means the coef_ did not converge\n",
      "  warnings.warn(\"The max_iter was reached which means \"\n",
      "C:\\Users\\ciaci\\anaconda3\\lib\\site-packages\\sklearn\\linear_model\\_sag.py:328: ConvergenceWarning: The max_iter was reached which means the coef_ did not converge\n",
      "  warnings.warn(\"The max_iter was reached which means \"\n",
      "C:\\Users\\ciaci\\anaconda3\\lib\\site-packages\\sklearn\\linear_model\\_sag.py:328: ConvergenceWarning: The max_iter was reached which means the coef_ did not converge\n",
      "  warnings.warn(\"The max_iter was reached which means \"\n",
      "C:\\Users\\ciaci\\anaconda3\\lib\\site-packages\\sklearn\\linear_model\\_sag.py:328: ConvergenceWarning: The max_iter was reached which means the coef_ did not converge\n",
      "  warnings.warn(\"The max_iter was reached which means \"\n",
      "C:\\Users\\ciaci\\anaconda3\\lib\\site-packages\\sklearn\\linear_model\\_sag.py:328: ConvergenceWarning: The max_iter was reached which means the coef_ did not converge\n",
      "  warnings.warn(\"The max_iter was reached which means \"\n",
      "C:\\Users\\ciaci\\anaconda3\\lib\\site-packages\\sklearn\\linear_model\\_sag.py:328: ConvergenceWarning: The max_iter was reached which means the coef_ did not converge\n",
      "  warnings.warn(\"The max_iter was reached which means \"\n",
      "C:\\Users\\ciaci\\anaconda3\\lib\\site-packages\\sklearn\\linear_model\\_sag.py:328: ConvergenceWarning: The max_iter was reached which means the coef_ did not converge\n",
      "  warnings.warn(\"The max_iter was reached which means \"\n",
      "C:\\Users\\ciaci\\anaconda3\\lib\\site-packages\\sklearn\\linear_model\\_sag.py:328: ConvergenceWarning: The max_iter was reached which means the coef_ did not converge\n",
      "  warnings.warn(\"The max_iter was reached which means \"\n",
      "C:\\Users\\ciaci\\anaconda3\\lib\\site-packages\\sklearn\\linear_model\\_sag.py:328: ConvergenceWarning: The max_iter was reached which means the coef_ did not converge\n",
      "  warnings.warn(\"The max_iter was reached which means \"\n",
      "C:\\Users\\ciaci\\anaconda3\\lib\\site-packages\\sklearn\\linear_model\\_sag.py:328: ConvergenceWarning: The max_iter was reached which means the coef_ did not converge\n",
      "  warnings.warn(\"The max_iter was reached which means \"\n",
      "C:\\Users\\ciaci\\anaconda3\\lib\\site-packages\\sklearn\\linear_model\\_sag.py:328: ConvergenceWarning: The max_iter was reached which means the coef_ did not converge\n",
      "  warnings.warn(\"The max_iter was reached which means \"\n",
      "C:\\Users\\ciaci\\anaconda3\\lib\\site-packages\\sklearn\\linear_model\\_sag.py:328: ConvergenceWarning: The max_iter was reached which means the coef_ did not converge\n",
      "  warnings.warn(\"The max_iter was reached which means \"\n",
      "C:\\Users\\ciaci\\anaconda3\\lib\\site-packages\\sklearn\\linear_model\\_sag.py:328: ConvergenceWarning: The max_iter was reached which means the coef_ did not converge\n",
      "  warnings.warn(\"The max_iter was reached which means \"\n",
      "C:\\Users\\ciaci\\anaconda3\\lib\\site-packages\\sklearn\\linear_model\\_sag.py:328: ConvergenceWarning: The max_iter was reached which means the coef_ did not converge\n",
      "  warnings.warn(\"The max_iter was reached which means \"\n",
      "C:\\Users\\ciaci\\anaconda3\\lib\\site-packages\\sklearn\\linear_model\\_sag.py:328: ConvergenceWarning: The max_iter was reached which means the coef_ did not converge\n",
      "  warnings.warn(\"The max_iter was reached which means \"\n",
      "C:\\Users\\ciaci\\anaconda3\\lib\\site-packages\\sklearn\\linear_model\\_sag.py:328: ConvergenceWarning: The max_iter was reached which means the coef_ did not converge\n",
      "  warnings.warn(\"The max_iter was reached which means \"\n",
      "C:\\Users\\ciaci\\anaconda3\\lib\\site-packages\\sklearn\\linear_model\\_sag.py:328: ConvergenceWarning: The max_iter was reached which means the coef_ did not converge\n",
      "  warnings.warn(\"The max_iter was reached which means \"\n",
      "C:\\Users\\ciaci\\anaconda3\\lib\\site-packages\\sklearn\\linear_model\\_sag.py:328: ConvergenceWarning: The max_iter was reached which means the coef_ did not converge\n",
      "  warnings.warn(\"The max_iter was reached which means \"\n",
      "C:\\Users\\ciaci\\anaconda3\\lib\\site-packages\\sklearn\\linear_model\\_sag.py:328: ConvergenceWarning: The max_iter was reached which means the coef_ did not converge\n",
      "  warnings.warn(\"The max_iter was reached which means \"\n",
      "C:\\Users\\ciaci\\anaconda3\\lib\\site-packages\\sklearn\\linear_model\\_sag.py:328: ConvergenceWarning: The max_iter was reached which means the coef_ did not converge\n",
      "  warnings.warn(\"The max_iter was reached which means \"\n",
      "C:\\Users\\ciaci\\anaconda3\\lib\\site-packages\\sklearn\\linear_model\\_sag.py:328: ConvergenceWarning: The max_iter was reached which means the coef_ did not converge\n",
      "  warnings.warn(\"The max_iter was reached which means \"\n",
      "C:\\Users\\ciaci\\anaconda3\\lib\\site-packages\\sklearn\\linear_model\\_sag.py:328: ConvergenceWarning: The max_iter was reached which means the coef_ did not converge\n",
      "  warnings.warn(\"The max_iter was reached which means \"\n"
     ]
    },
    {
     "name": "stderr",
     "output_type": "stream",
     "text": [
      "C:\\Users\\ciaci\\anaconda3\\lib\\site-packages\\sklearn\\linear_model\\_sag.py:328: ConvergenceWarning: The max_iter was reached which means the coef_ did not converge\n",
      "  warnings.warn(\"The max_iter was reached which means \"\n",
      "C:\\Users\\ciaci\\anaconda3\\lib\\site-packages\\sklearn\\linear_model\\_sag.py:328: ConvergenceWarning: The max_iter was reached which means the coef_ did not converge\n",
      "  warnings.warn(\"The max_iter was reached which means \"\n",
      "C:\\Users\\ciaci\\anaconda3\\lib\\site-packages\\sklearn\\linear_model\\_sag.py:328: ConvergenceWarning: The max_iter was reached which means the coef_ did not converge\n",
      "  warnings.warn(\"The max_iter was reached which means \"\n",
      "C:\\Users\\ciaci\\anaconda3\\lib\\site-packages\\sklearn\\linear_model\\_sag.py:328: ConvergenceWarning: The max_iter was reached which means the coef_ did not converge\n",
      "  warnings.warn(\"The max_iter was reached which means \"\n",
      "C:\\Users\\ciaci\\anaconda3\\lib\\site-packages\\sklearn\\linear_model\\_sag.py:328: ConvergenceWarning: The max_iter was reached which means the coef_ did not converge\n",
      "  warnings.warn(\"The max_iter was reached which means \"\n"
     ]
    },
    {
     "name": "stdout",
     "output_type": "stream",
     "text": [
      "Best score: 0.6165244723843736\n"
     ]
    },
    {
     "name": "stderr",
     "output_type": "stream",
     "text": [
      "C:\\Users\\ciaci\\anaconda3\\lib\\site-packages\\sklearn\\linear_model\\_sag.py:328: ConvergenceWarning: The max_iter was reached which means the coef_ did not converge\n",
      "  warnings.warn(\"The max_iter was reached which means \"\n"
     ]
    }
   ],
   "source": [
    "model = Pipeline([\n",
    "    (\"scaler\", None),\n",
    "    (\"cl\", LogisticRegression(multi_class=\"multinomial\", solver=\"saga\", random_state=42))\n",
    "])\n",
    "grid = [\n",
    "    {\n",
    "        \"scaler\": [None, StandardScaler()], #con o senza normalizzazione\n",
    "        \"cl__penalty\": [\"none\"],\n",
    "    },\n",
    "    {\n",
    "        \"scaler\": [None, StandardScaler()],\n",
    "        \"cl__penalty\": [\"l2\", \"l1\"], #regolarizzazione l2 o l1\n",
    "        \"cl__C\": np.logspace(-3, 0, 4), #parametro regolarizzazione\n",
    "    },\n",
    "    {\n",
    "        \"scaler\": [None, StandardScaler()],\n",
    "        \"cl__penalty\": [\"elasticnet\"], #regolarizzazione elasticnet\n",
    "        \"cl__C\": np.logspace(-3, 0, 4),\n",
    "        \"cl__l1_ratio\": np.logspace(-3, 0, 4), #parametro per la regolarizzazione elasticnet\n",
    "    }\n",
    "]\n",
    "models[\"log_regr\"] = grid_score(model, grid)"
   ]
  },
  {
   "cell_type": "markdown",
   "id": "e95d37c5",
   "metadata": {},
   "source": [
    "Viene segnalato qualche warning per il raggiungimento delle massime iterazioni e la non convergenza per ogni parametro nella regressione logistica, ma anche aumentando il valore di iterazioni da 100 a 1000 i warning persistono (aumentando il numero massimo di iterazioni aumenta anche il tempo di esecuzione, quindi cerchiamo di risparmiare tempo). In ogni caso, la regressione logistica produce un risultato migliore dei precedenti con una precisione del **~62%**."
   ]
  },
  {
   "cell_type": "code",
   "execution_count": 43,
   "id": "8b4988f2",
   "metadata": {},
   "outputs": [
    {
     "data": {
      "text/plain": [
       "0.6165244723843736"
      ]
     },
     "execution_count": 43,
     "metadata": {},
     "output_type": "execute_result"
    }
   ],
   "source": [
    "models[\"log_regr\"].score(X_val, y_val)"
   ]
  },
  {
   "cell_type": "code",
   "execution_count": 44,
   "id": "4efaaa44",
   "metadata": {},
   "outputs": [
    {
     "data": {
      "text/plain": [
       "{'cl__C': 0.1, 'cl__penalty': 'l1', 'scaler': StandardScaler()}"
      ]
     },
     "execution_count": 44,
     "metadata": {},
     "output_type": "execute_result"
    }
   ],
   "source": [
    "models[\"log_regr\"].best_params_"
   ]
  },
  {
   "cell_type": "markdown",
   "id": "2b4cd176",
   "metadata": {},
   "source": [
    "### Support Vector Machines"
   ]
  },
  {
   "cell_type": "markdown",
   "id": "8357af08",
   "metadata": {},
   "source": [
    "Di seguito creiamo un modello utilizzando le **Support Vector Machines** che si basa sul cercare gli iperpiani di separazione migliori, cioè quelli con distanza massima tra elementi di classi differenti."
   ]
  },
  {
   "cell_type": "code",
   "execution_count": 45,
   "id": "b3f27e10",
   "metadata": {},
   "outputs": [],
   "source": [
    "from sklearn.svm import SVC"
   ]
  },
  {
   "cell_type": "code",
   "execution_count": 46,
   "id": "7accd4b3",
   "metadata": {},
   "outputs": [
    {
     "name": "stdout",
     "output_type": "stream",
     "text": [
      "Best score: 0.7013920071845532\n",
      "Wall time: 3min 41s\n"
     ]
    }
   ],
   "source": [
    "%%time\n",
    "model = Pipeline([\n",
    "    (\"scaler\", None),\n",
    "    (\"cl\", SVC(random_state=42))\n",
    "])\n",
    "grid = [\n",
    "    {\n",
    "        \"scaler\": [None, StandardScaler()],\n",
    "        \"cl__C\": np.logspace(-2, 2, 5), #parametro per la regolarizzazione (l2 in SVM)\n",
    "    },\n",
    "]\n",
    "models[\"svm\"] = grid_score(model, grid)"
   ]
  },
  {
   "cell_type": "code",
   "execution_count": 47,
   "id": "3ec7c1d9",
   "metadata": {},
   "outputs": [
    {
     "data": {
      "text/plain": [
       "{'cl__C': 10.0, 'scaler': StandardScaler()}"
      ]
     },
     "execution_count": 47,
     "metadata": {},
     "output_type": "execute_result"
    }
   ],
   "source": [
    "models[\"svm\"].best_params_"
   ]
  },
  {
   "cell_type": "markdown",
   "id": "35587eef",
   "metadata": {},
   "source": [
    "Otteniamo nuovamente un risultato migliore dei precedenti con circa il **70%** di precisione."
   ]
  },
  {
   "cell_type": "markdown",
   "id": "78c685a5",
   "metadata": {},
   "source": [
    "### Decision Tree\n",
    "Di seguito utilizziamo un algoritmo che si basa sui _**decision tree**_, alberi decisionali formati da nodi con condizioni sulle variabili indipendenti e da foglie con la classe assegnata al dato di input preso in considerazione."
   ]
  },
  {
   "cell_type": "code",
   "execution_count": 48,
   "id": "6b732fe9",
   "metadata": {},
   "outputs": [],
   "source": [
    "from sklearn.tree import DecisionTreeClassifier"
   ]
  },
  {
   "cell_type": "code",
   "execution_count": 49,
   "id": "45c1c41f",
   "metadata": {},
   "outputs": [
    {
     "name": "stdout",
     "output_type": "stream",
     "text": [
      "Best score: 0.6706331387516838\n",
      "Wall time: 26.2 s\n"
     ]
    }
   ],
   "source": [
    "%%time\n",
    "model = Pipeline([\n",
    "    (\"scaler\", None),\n",
    "    (\"poly\", PolynomialFeatures(include_bias=False)),\n",
    "    (\"cl\", DecisionTreeClassifier(max_depth=7, random_state=42))\n",
    "])\n",
    "grid = [\n",
    "    {\n",
    "        \"scaler\": [None, StandardScaler()],\n",
    "        \"poly__degree\": range(1, 3),\n",
    "        \"cl__max_depth\": range(1, 11)\n",
    "    }\n",
    "]\n",
    "models[\"dec_tree\"] = grid_score(model, grid)"
   ]
  },
  {
   "cell_type": "code",
   "execution_count": 50,
   "id": "fac5ef5e",
   "metadata": {},
   "outputs": [
    {
     "data": {
      "text/plain": [
       "{'cl__max_depth': 10, 'poly__degree': 1, 'scaler': None}"
      ]
     },
     "execution_count": 50,
     "metadata": {},
     "output_type": "execute_result"
    }
   ],
   "source": [
    "models[\"dec_tree\"].best_params_"
   ]
  },
  {
   "cell_type": "markdown",
   "id": "b738f7f8",
   "metadata": {},
   "source": [
    "Grazie agli iperparametri individuati (**grado=1** e **depth=10**) otteniamo un modello con una precisione leggermente minore di SVM ma molto più veloce nell'esecuzione."
   ]
  },
  {
   "cell_type": "markdown",
   "id": "e104223d",
   "metadata": {},
   "source": [
    "### Random forest\n",
    "L'algoritmo di _**random forest**_ è molto simile ai _decision tree_, con la differenza che il _random forest_ crea un insieme di alberi che poi vengono uniti."
   ]
  },
  {
   "cell_type": "code",
   "execution_count": 51,
   "id": "2c6adf33",
   "metadata": {},
   "outputs": [],
   "source": [
    "from sklearn.ensemble import RandomForestClassifier"
   ]
  },
  {
   "cell_type": "code",
   "execution_count": 52,
   "id": "bf39b5c2",
   "metadata": {},
   "outputs": [
    {
     "name": "stdout",
     "output_type": "stream",
     "text": [
      "Best score: 0.7180062864840593\n"
     ]
    }
   ],
   "source": [
    "model = Pipeline([\n",
    "    (\"scaler\", None),\n",
    "    (\"cl\", RandomForestClassifier(random_state=42))\n",
    "])\n",
    "grid = [\n",
    "    {\n",
    "        \"scaler\": [None, StandardScaler()],\n",
    "        \"cl__max_depth\": range(5, 14)\n",
    "    }\n",
    "]\n",
    "models[\"rand_forest\"] = grid_score(model, grid)"
   ]
  },
  {
   "cell_type": "code",
   "execution_count": 53,
   "id": "da801ecb",
   "metadata": {},
   "outputs": [
    {
     "data": {
      "text/plain": [
       "{'cl__max_depth': 12, 'scaler': None}"
      ]
     },
     "execution_count": 53,
     "metadata": {},
     "output_type": "execute_result"
    }
   ],
   "source": [
    "models[\"rand_forest\"].best_params_"
   ]
  },
  {
   "cell_type": "markdown",
   "id": "9f4c6ff4",
   "metadata": {},
   "source": [
    "Impostando come `max_depth` il valore 12, otteniamo il modello con la percentuale maggiore di istanze corrette (**~72%**), superando anche l'algoritmo SVM."
   ]
  },
  {
   "cell_type": "markdown",
   "id": "d657aed4",
   "metadata": {},
   "source": [
    "## Algoritmi di regressione   \n",
    "Proviamo ad applicare degli algoritmi di **regressione** al problema, dato che abbiamo una variabile target ordinale che è già stata convertita in valori numerici. La maggior parte dei modelli di regressione predicono variabili continue e sarà quindi necessario arrotondare i valori all'intero più vicino."
   ]
  },
  {
   "cell_type": "markdown",
   "id": "908710b4",
   "metadata": {},
   "source": [
    "### Regressione lineare e feature polinomiali    \n",
    "Come primo modello utilizziamo la regressione lineare con feature polinomiali."
   ]
  },
  {
   "cell_type": "code",
   "execution_count": 54,
   "id": "de3bf364",
   "metadata": {},
   "outputs": [],
   "source": [
    "from sklearn.linear_model import LinearRegression"
   ]
  },
  {
   "cell_type": "code",
   "execution_count": 55,
   "id": "b7eb6ee4",
   "metadata": {},
   "outputs": [
    {
     "name": "stdout",
     "output_type": "stream",
     "text": [
      "Best score: 0.676012751829065\n"
     ]
    }
   ],
   "source": [
    "model = Pipeline([\n",
    "    (\"scaler\", None),\n",
    "    (\"poly\", PolynomialFeatures(include_bias=False)),\n",
    "    (\"reg\", LinearRegression())\n",
    "])\n",
    "grid = [\n",
    "    {\n",
    "        \"scaler\": [None, StandardScaler()],\n",
    "        \"poly__degree\": range(1, 4)\n",
    "    }\n",
    "]\n",
    "models[\"lin_regr\"] = grid_score(model, grid)"
   ]
  },
  {
   "cell_type": "markdown",
   "id": "e382464b",
   "metadata": {},
   "source": [
    "Confrontiamo i valori arrotondati con quelli reali: "
   ]
  },
  {
   "cell_type": "code",
   "execution_count": 56,
   "id": "18587c7e",
   "metadata": {},
   "outputs": [
    {
     "data": {
      "text/plain": [
       "0.6286484059272563"
      ]
     },
     "execution_count": 56,
     "metadata": {},
     "output_type": "execute_result"
    }
   ],
   "source": [
    "np.mean(y_val == np.round(models[\"lin_regr\"].predict(X_val)))"
   ]
  },
  {
   "cell_type": "markdown",
   "id": "b7fa5a7e",
   "metadata": {},
   "source": [
    "Otteniamo quindi una precisione del **~63%**, buona ma migliorabile con altri modelli di regressione più sofisticati."
   ]
  },
  {
   "cell_type": "markdown",
   "id": "3dbf5082",
   "metadata": {},
   "source": [
    "### Regressione Elastic Net\n",
    "Applichiamo una regolarizzazione _**elastic net**_ (quindi sia l1 sia l2) alla regressione."
   ]
  },
  {
   "cell_type": "code",
   "execution_count": 57,
   "id": "3fe9c7d2",
   "metadata": {},
   "outputs": [],
   "source": [
    "from sklearn.linear_model import ElasticNet"
   ]
  },
  {
   "cell_type": "code",
   "execution_count": 58,
   "id": "2fce4ae3",
   "metadata": {},
   "outputs": [
    {
     "name": "stdout",
     "output_type": "stream",
     "text": [
      "Best score: 0.6060996164075383\n",
      "Wall time: 18 s\n"
     ]
    }
   ],
   "source": [
    "%%time\n",
    "model = Pipeline([\n",
    "    (\"scaler\", None),\n",
    "    (\"reg\", ElasticNet(random_state=42, max_iter=5000))\n",
    "])\n",
    "grid = [\n",
    "    {\n",
    "        \"scaler\": [None, StandardScaler()],\n",
    "        \"reg__alpha\": np.logspace(-4, 2, 7),\n",
    "        \"reg__l1_ratio\": np.logspace(-4, 0, 5)\n",
    "    }\n",
    "]\n",
    "models[\"elastic_net\"] = grid_score(model, grid)"
   ]
  },
  {
   "cell_type": "code",
   "execution_count": 59,
   "id": "033ac6d9",
   "metadata": {},
   "outputs": [
    {
     "data": {
      "text/plain": [
       "0.5103277952402335"
      ]
     },
     "execution_count": 59,
     "metadata": {},
     "output_type": "execute_result"
    }
   ],
   "source": [
    "np.mean(y_val == np.round(models[\"elastic_net\"].predict(X_val)))"
   ]
  },
  {
   "cell_type": "code",
   "execution_count": 60,
   "id": "b0c583fc",
   "metadata": {},
   "outputs": [
    {
     "data": {
      "text/plain": [
       "{'reg__alpha': 0.001, 'reg__l1_ratio': 1.0, 'scaler': StandardScaler()}"
      ]
     },
     "execution_count": 60,
     "metadata": {},
     "output_type": "execute_result"
    }
   ],
   "source": [
    "models[\"elastic_net\"].best_params_"
   ]
  },
  {
   "cell_type": "markdown",
   "id": "8551a08c",
   "metadata": {},
   "source": [
    "Abbiamo ottenuto un modello con una precisione del 51%, quindi peggiore della regressione lineare con feature polinomiali."
   ]
  },
  {
   "cell_type": "markdown",
   "id": "dc11a277",
   "metadata": {},
   "source": [
    "### Kernel Ridge\n",
    "Proviamo ad ottenere un modello migliore utilizzando il **Kernel Ridge**, il quale fa uso del _kernel trick_ per ridurre il grado del polinomio."
   ]
  },
  {
   "cell_type": "code",
   "execution_count": 61,
   "id": "0ac5c046",
   "metadata": {},
   "outputs": [],
   "source": [
    "from sklearn.kernel_ridge import KernelRidge"
   ]
  },
  {
   "cell_type": "code",
   "execution_count": 62,
   "id": "96699d6d",
   "metadata": {
    "scrolled": true
   },
   "outputs": [
    {
     "name": "stdout",
     "output_type": "stream",
     "text": [
      "Best score: 0.6684807172293769\n"
     ]
    }
   ],
   "source": [
    "model = Pipeline([\n",
    "    (\"scaler\", StandardScaler()),\n",
    "    (\"reg\", KernelRidge(kernel=\"poly\"))\n",
    "])\n",
    "grid = [\n",
    "    {\n",
    "        \"scaler\": [None, StandardScaler()],\n",
    "        \"reg__alpha\": np.logspace(-2, 2, 5),\n",
    "        \"reg__degree\": range(1, 3)\n",
    "    }\n",
    "]\n",
    "models[\"kernel_ridge\"] = grid_score(model, grid)"
   ]
  },
  {
   "cell_type": "markdown",
   "id": "27344e0e",
   "metadata": {},
   "source": [
    "Valutiamo i parametri migliori e la percentuale di istanze classificate correttamente."
   ]
  },
  {
   "cell_type": "code",
   "execution_count": 63,
   "id": "6b7b440b",
   "metadata": {},
   "outputs": [
    {
     "data": {
      "text/plain": [
       "{'reg__alpha': 1.0, 'reg__degree': 2, 'scaler': StandardScaler()}"
      ]
     },
     "execution_count": 63,
     "metadata": {},
     "output_type": "execute_result"
    }
   ],
   "source": [
    "models[\"kernel_ridge\"].best_params_"
   ]
  },
  {
   "cell_type": "code",
   "execution_count": 64,
   "id": "f5c16c2c",
   "metadata": {},
   "outputs": [
    {
     "data": {
      "text/plain": [
       "0.582622361921868"
      ]
     },
     "execution_count": 64,
     "metadata": {},
     "output_type": "execute_result"
    }
   ],
   "source": [
    "np.mean(y_val == np.round(models[\"kernel_ridge\"].predict(X_val)))"
   ]
  },
  {
   "cell_type": "markdown",
   "id": "dabf9150",
   "metadata": {},
   "source": [
    "Otteniamo un precisione circa del **58%**, migliorando il risultato della regressione elastic net ma restando comunque inferiore a quella della regressione lineare con feature polinomiali."
   ]
  },
  {
   "cell_type": "markdown",
   "id": "178dcc94",
   "metadata": {},
   "source": [
    "(Testando anche il kernel ridge con grado 3 produceva risultati migliori, ma l'esecuzione aveva una durata estremamente lunga e, di conseguenza, è stata esclusa da questo progetto) "
   ]
  },
  {
   "cell_type": "markdown",
   "id": "83dfc0de",
   "metadata": {},
   "source": [
    "### Decision tree e Random forest\n",
    "Utilizziamo gli stessi modelli precedentemente utilizzati nella classificazione ma con la regressione."
   ]
  },
  {
   "cell_type": "code",
   "execution_count": 65,
   "id": "5eca263c",
   "metadata": {},
   "outputs": [],
   "source": [
    "from sklearn.tree import DecisionTreeRegressor\n",
    "from sklearn.ensemble import RandomForestRegressor"
   ]
  },
  {
   "cell_type": "code",
   "execution_count": 66,
   "id": "04beeaa2",
   "metadata": {},
   "outputs": [
    {
     "name": "stdout",
     "output_type": "stream",
     "text": [
      "Best score: 0.6301270453029476\n"
     ]
    }
   ],
   "source": [
    "model = Pipeline([\n",
    "    (\"scaler\", None),\n",
    "    (\"poly\", PolynomialFeatures(include_bias=False)),\n",
    "    (\"cl\", DecisionTreeRegressor(random_state=42))\n",
    "])\n",
    "grid = [\n",
    "    {\n",
    "        \"scaler\": [None, StandardScaler()],\n",
    "        \"poly__degree\": range(1, 3),\n",
    "        \"cl__max_depth\": range(3, 10)\n",
    "    }\n",
    "]\n",
    "models[\"dec_tree_regr\"] = grid_score(model, grid)"
   ]
  },
  {
   "cell_type": "code",
   "execution_count": 67,
   "id": "37764ab4",
   "metadata": {},
   "outputs": [
    {
     "data": {
      "text/plain": [
       "{'cl__max_depth': 8, 'poly__degree': 1, 'scaler': StandardScaler()}"
      ]
     },
     "execution_count": 67,
     "metadata": {},
     "output_type": "execute_result"
    }
   ],
   "source": [
    "models[\"dec_tree_regr\"].best_params_"
   ]
  },
  {
   "cell_type": "code",
   "execution_count": 68,
   "id": "fea9308e",
   "metadata": {},
   "outputs": [
    {
     "data": {
      "text/plain": [
       "0.6203412662775034"
      ]
     },
     "execution_count": 68,
     "metadata": {},
     "output_type": "execute_result"
    }
   ],
   "source": [
    "np.mean(y_val == np.round(models[\"dec_tree_regr\"].predict(X_val)))"
   ]
  },
  {
   "cell_type": "code",
   "execution_count": 69,
   "id": "97b52cc9",
   "metadata": {},
   "outputs": [
    {
     "name": "stdout",
     "output_type": "stream",
     "text": [
      "Best score: 0.7388318782936668\n"
     ]
    }
   ],
   "source": [
    "model = Pipeline([\n",
    "    (\"scaler\", None),\n",
    "    (\"cl\", RandomForestRegressor(random_state=42))\n",
    "])\n",
    "grid = [\n",
    "    {\n",
    "        \"scaler\": [None, StandardScaler()],\n",
    "        \"cl__max_depth\": range(7, 15)\n",
    "    }\n",
    "]\n",
    "models[\"rand_forest_regr\"] = grid_score(model, grid)"
   ]
  },
  {
   "cell_type": "code",
   "execution_count": 70,
   "id": "cc9cf5de",
   "metadata": {},
   "outputs": [
    {
     "data": {
      "text/plain": [
       "{'cl__max_depth': 14, 'scaler': None}"
      ]
     },
     "execution_count": 70,
     "metadata": {},
     "output_type": "execute_result"
    }
   ],
   "source": [
    "models[\"rand_forest_regr\"].best_params_"
   ]
  },
  {
   "cell_type": "code",
   "execution_count": 71,
   "id": "1152e8b2",
   "metadata": {},
   "outputs": [
    {
     "data": {
      "text/plain": [
       "0.6933093848226314"
      ]
     },
     "execution_count": 71,
     "metadata": {},
     "output_type": "execute_result"
    }
   ],
   "source": [
    "np.mean(y_val == np.round(models[\"rand_forest_regr\"].predict(X_val)))"
   ]
  },
  {
   "cell_type": "markdown",
   "id": "52118c3b",
   "metadata": {},
   "source": [
    "Per quanto riguarda il decision tree otteniamo una accuracy del **62%**, mentre per l'algoritmo del random forest otteniamo il **~69%**, uno dei migliori risultati ottenuti tra tutti i modelli creati."
   ]
  },
  {
   "cell_type": "markdown",
   "id": "513496a1",
   "metadata": {},
   "source": [
    "## Valutazione dei modelli ottenuti"
   ]
  },
  {
   "cell_type": "markdown",
   "id": "ac2d1a65",
   "metadata": {},
   "source": [
    "Nella seguente sezione verranno analizzati i modelli creati precedentemente, valutando in particolar modo:\n",
    "- **accuratezza**: percentuale di istanze classificate correttamente, valore che abbiamo già visualizzato per ogni modello;\n",
    "- **Root Mean Squared Error**: valore che tiene conto anche della gravità degli errori;\n",
    "- **precision** e **recall**: indicano quanti valori (in percentuale) sono stati predetti rispettivamente in modo corretto o errato;\n",
    "- **F1-Score**: valore che combina precision e recall."
   ]
  },
  {
   "cell_type": "code",
   "execution_count": 72,
   "id": "d50fec5e",
   "metadata": {},
   "outputs": [],
   "source": [
    "from sklearn.metrics import confusion_matrix, mean_squared_error\n",
    "from sklearn.metrics import precision_score, recall_score, f1_score"
   ]
  },
  {
   "cell_type": "code",
   "execution_count": 73,
   "id": "2991a900",
   "metadata": {},
   "outputs": [],
   "source": [
    "def rmse(y_val, y_pred):\n",
    "    return np.sqrt(mean_squared_error(y_val, y_pred))"
   ]
  },
  {
   "cell_type": "code",
   "execution_count": 74,
   "id": "f422d344",
   "metadata": {},
   "outputs": [],
   "source": [
    "def accuracy(y_val, y_pred):\n",
    "    return np.mean(y_val == np.round(y_pred))"
   ]
  },
  {
   "cell_type": "markdown",
   "id": "c987c6a0",
   "metadata": {},
   "source": [
    "Procediamo visualizzando la **matrice di confusione** di alcuni modelli, ad esempio **SVM** e **random forest**."
   ]
  },
  {
   "cell_type": "code",
   "execution_count": 75,
   "id": "cf0e89a7",
   "metadata": {},
   "outputs": [
    {
     "data": {
      "text/html": [
       "<div>\n",
       "<style scoped>\n",
       "    .dataframe tbody tr th:only-of-type {\n",
       "        vertical-align: middle;\n",
       "    }\n",
       "\n",
       "    .dataframe tbody tr th {\n",
       "        vertical-align: top;\n",
       "    }\n",
       "\n",
       "    .dataframe thead th {\n",
       "        text-align: right;\n",
       "    }\n",
       "</style>\n",
       "<table border=\"1\" class=\"dataframe\">\n",
       "  <thead>\n",
       "    <tr style=\"text-align: right;\">\n",
       "      <th></th>\n",
       "      <th>0</th>\n",
       "      <th>1</th>\n",
       "      <th>2</th>\n",
       "      <th>3</th>\n",
       "    </tr>\n",
       "  </thead>\n",
       "  <tbody>\n",
       "    <tr>\n",
       "      <th>0</th>\n",
       "      <td>842</td>\n",
       "      <td>173</td>\n",
       "      <td>54</td>\n",
       "      <td>14</td>\n",
       "    </tr>\n",
       "    <tr>\n",
       "      <th>1</th>\n",
       "      <td>66</td>\n",
       "      <td>753</td>\n",
       "      <td>233</td>\n",
       "      <td>78</td>\n",
       "    </tr>\n",
       "    <tr>\n",
       "      <th>2</th>\n",
       "      <td>38</td>\n",
       "      <td>201</td>\n",
       "      <td>624</td>\n",
       "      <td>276</td>\n",
       "    </tr>\n",
       "    <tr>\n",
       "      <th>3</th>\n",
       "      <td>4</td>\n",
       "      <td>13</td>\n",
       "      <td>180</td>\n",
       "      <td>905</td>\n",
       "    </tr>\n",
       "  </tbody>\n",
       "</table>\n",
       "</div>"
      ],
      "text/plain": [
       "     0    1    2    3\n",
       "0  842  173   54   14\n",
       "1   66  753  233   78\n",
       "2   38  201  624  276\n",
       "3    4   13  180  905"
      ]
     },
     "execution_count": 75,
     "metadata": {},
     "output_type": "execute_result"
    }
   ],
   "source": [
    "y_pred = models[\"svm\"].predict(X_val)\n",
    "confusion_svm = pd.DataFrame(confusion_matrix(y_val, y_pred))\n",
    "confusion_svm"
   ]
  },
  {
   "cell_type": "code",
   "execution_count": 76,
   "id": "f7c7efde",
   "metadata": {},
   "outputs": [
    {
     "data": {
      "text/html": [
       "<div>\n",
       "<style scoped>\n",
       "    .dataframe tbody tr th:only-of-type {\n",
       "        vertical-align: middle;\n",
       "    }\n",
       "\n",
       "    .dataframe tbody tr th {\n",
       "        vertical-align: top;\n",
       "    }\n",
       "\n",
       "    .dataframe thead th {\n",
       "        text-align: right;\n",
       "    }\n",
       "</style>\n",
       "<table border=\"1\" class=\"dataframe\">\n",
       "  <thead>\n",
       "    <tr style=\"text-align: right;\">\n",
       "      <th></th>\n",
       "      <th>0</th>\n",
       "      <th>1</th>\n",
       "      <th>2</th>\n",
       "      <th>3</th>\n",
       "    </tr>\n",
       "  </thead>\n",
       "  <tbody>\n",
       "    <tr>\n",
       "      <th>0</th>\n",
       "      <td>854</td>\n",
       "      <td>160</td>\n",
       "      <td>59</td>\n",
       "      <td>10</td>\n",
       "    </tr>\n",
       "    <tr>\n",
       "      <th>1</th>\n",
       "      <td>41</td>\n",
       "      <td>771</td>\n",
       "      <td>222</td>\n",
       "      <td>96</td>\n",
       "    </tr>\n",
       "    <tr>\n",
       "      <th>2</th>\n",
       "      <td>43</td>\n",
       "      <td>154</td>\n",
       "      <td>656</td>\n",
       "      <td>286</td>\n",
       "    </tr>\n",
       "    <tr>\n",
       "      <th>3</th>\n",
       "      <td>7</td>\n",
       "      <td>14</td>\n",
       "      <td>164</td>\n",
       "      <td>917</td>\n",
       "    </tr>\n",
       "  </tbody>\n",
       "</table>\n",
       "</div>"
      ],
      "text/plain": [
       "     0    1    2    3\n",
       "0  854  160   59   10\n",
       "1   41  771  222   96\n",
       "2   43  154  656  286\n",
       "3    7   14  164  917"
      ]
     },
     "execution_count": 76,
     "metadata": {},
     "output_type": "execute_result"
    }
   ],
   "source": [
    "y_pred = models[\"rand_forest\"].predict(X_val)\n",
    "confusion_forest = pd.DataFrame(confusion_matrix(y_val, y_pred))\n",
    "confusion_forest"
   ]
  },
  {
   "cell_type": "markdown",
   "id": "c8e1a32e",
   "metadata": {},
   "source": [
    "Nelle colonne della matrice possiamo visualizzare le classi predette dal modello, mentre nelle righe sono presenti le classi reali, quindi sulle diagonali sono presenti i valori predetti correttamente. Come possiamo notare, un buon numero di istanze sono state classificate correttamente da questi due modelli, in particolare quelle della classe 0 e 3 (quindi \"D\" e \"A\" nel nostro dataset iniziale)."
   ]
  },
  {
   "cell_type": "markdown",
   "id": "4d5c3936",
   "metadata": {},
   "source": [
    "Di seguito creiamo una funzione che richiameremo per ogni modello creato in modo da visualizzare **accuracy**, **rmse** e **f1-score** di ciascuno di essi e raccogliere i migliori."
   ]
  },
  {
   "cell_type": "code",
   "execution_count": 77,
   "id": "4dceff3d",
   "metadata": {},
   "outputs": [],
   "source": [
    "def print_eval(y_val, y_pred):\n",
    "    print(f\"Accuracy: {accuracy(y_val, y_pred)}\")\n",
    "    print(f\"    RMSE: {rmse(y_val.astype(int), y_pred)}\")\n",
    "    print(f\"F1-Score: {f1_score(y_val, y_pred, average='macro')}\\n\")\n",
    "    #macro = in tutte le classi"
   ]
  },
  {
   "cell_type": "code",
   "execution_count": 78,
   "id": "9a8fd3cc",
   "metadata": {},
   "outputs": [
    {
     "name": "stdout",
     "output_type": "stream",
     "text": [
      "   Model: perceptron\n",
      "Accuracy: 0.583969465648855\n",
      "    RMSE: 0.8011834533421762\n",
      "F1-Score: 0.5884959151877338\n",
      "\n",
      "   Model: log_regr\n",
      "Accuracy: 0.6165244723843736\n",
      "    RMSE: 0.7390876546751539\n",
      "F1-Score: 0.6155550407466595\n",
      "\n",
      "   Model: svm\n",
      "Accuracy: 0.7013920071845532\n",
      "    RMSE: 0.673942485144276\n",
      "F1-Score: 0.7033787889095253\n",
      "\n",
      "   Model: dec_tree\n",
      "Accuracy: 0.6706331387516838\n",
      "    RMSE: 0.7657931547193392\n",
      "F1-Score: 0.672270309659187\n",
      "\n",
      "   Model: rand_forest\n",
      "Accuracy: 0.7180062864840593\n",
      "    RMSE: 0.6747748214935102\n",
      "F1-Score: 0.7200984036868955\n",
      "\n",
      "   Model: lin_regr\n",
      "Accuracy: 0.6286484059272563\n",
      "    RMSE: 0.6863215499092098\n",
      "F1-Score: 0.23428114085534027\n",
      "\n",
      "   Model: elastic_net\n",
      "Accuracy: 0.5103277952402335\n",
      "    RMSE: 0.7536768128401208\n",
      "F1-Score: 0.25653914637627645\n",
      "\n",
      "   Model: kernel_ridge\n",
      "Accuracy: 0.582622361921868\n",
      "    RMSE: 0.6931572663968032\n",
      "F1-Score: 0.2643558600313528\n",
      "\n",
      "   Model: dec_tree_regr\n",
      "Accuracy: 0.6203412662775034\n",
      "    RMSE: 0.7339052891940213\n",
      "F1-Score: 0.6308528646436681\n",
      "\n",
      "   Model: rand_forest_regr\n",
      "Accuracy: 0.6933093848226314\n",
      "    RMSE: 0.619254008962095\n",
      "F1-Score: 0.7033615720769211\n",
      "\n"
     ]
    }
   ],
   "source": [
    "for name, model in models.items():\n",
    "    print(f\"   Model: {name}\")\n",
    "    print_eval(y_val, np.round(model.predict(X_val)))"
   ]
  },
  {
   "cell_type": "markdown",
   "id": "60b1a562",
   "metadata": {},
   "source": [
    "Creiamo una lista contenente i migliori modelli, cioè quelli con accuracy e f1-score alti e con il minore RMSE possibile."
   ]
  },
  {
   "cell_type": "code",
   "execution_count": 79,
   "id": "57349c3a",
   "metadata": {},
   "outputs": [],
   "source": [
    "best_models = [\"rand_forest\", \"svm\", \"rand_forest_regr\", \"dec_tree\", \"dec_tree_regr\"]"
   ]
  },
  {
   "cell_type": "markdown",
   "id": "1ed33dde",
   "metadata": {},
   "source": [
    "Notiamo che gli algoritmi migliori nel nostro caso sono quelli di **random forest** e di **decision tree** (sia come classificazione sia come algoritmo di regressione), ma il secondo miglior risultato in termini di accuracy e f1-score è stato ottenuto da **SVM**."
   ]
  },
  {
   "cell_type": "markdown",
   "id": "5e9842f6",
   "metadata": {},
   "source": [
    "## Considerazioni finali\n",
    "Valutiamo ora la conoscenza appresa dalla creazione e dall'utilizzo di questi modelli."
   ]
  },
  {
   "cell_type": "markdown",
   "id": "530290f6",
   "metadata": {},
   "source": [
    "### Correlazione delle feature con la variabile target\n",
    "Inizializziamo un modello di random forest utilizzando i parametri ottenuti precedentemente grazie alla grid search in modo tale da poter richiamare il parametro `feature_importances_`. Quest'ultimo ci permette di visualizzare la correlazione di ogni feature con la variabile target:"
   ]
  },
  {
   "cell_type": "code",
   "execution_count": 80,
   "id": "f1b7bf74",
   "metadata": {},
   "outputs": [
    {
     "data": {
      "text/plain": [
       "sit and bend forward_cm    0.315146\n",
       "sit-ups counts             0.140017\n",
       "body fat_%                 0.085500\n",
       "bmi                        0.074908\n",
       "age                        0.074327\n",
       "broad jump_cm              0.065946\n",
       "gripForce                  0.064261\n",
       "weight_kg                  0.059183\n",
       "height_cm                  0.044565\n",
       "systolic                   0.031474\n",
       "diastolic                  0.027679\n",
       "gender                     0.016994\n",
       "dtype: float64"
      ]
     },
     "execution_count": 80,
     "metadata": {},
     "output_type": "execute_result"
    }
   ],
   "source": [
    "random_forest = RandomForestClassifier(max_depth=12, random_state=42)\n",
    "random_forest.fit(X_train, y_train)\n",
    "pd.Series(random_forest.feature_importances_, index=X.columns).sort_values(ascending=False)"
   ]
  },
  {
   "cell_type": "markdown",
   "id": "9f54181a",
   "metadata": {},
   "source": [
    "In linea con quanto avevamo predetto nella sezione di analisi dei dati, le feature più significative sono **`sit and bend forward_cm`**, **`sit-ups counts`**, **`body fat_%`** e **`bmi`**."
   ]
  },
  {
   "cell_type": "markdown",
   "id": "62b14e59",
   "metadata": {},
   "source": [
    "### Analisi della confidenza\n",
    "Creiamo una funzione che calcoli l'accuratezza dei migliori modelli considerando una confidenza del **95%** per 1000 elementi."
   ]
  },
  {
   "cell_type": "code",
   "execution_count": 81,
   "id": "01816bbc",
   "metadata": {},
   "outputs": [],
   "source": [
    "# acc=accuracy, N=n° elementi, z=numero calcolato in base alla confidenza\n",
    "def confidence(acc, N, z):\n",
    "    variation = z * np.sqrt((acc / N) - (acc**2 / N) + z**2 / (4 * N**2))\n",
    "    den = 1 + (z**2 / N)\n",
    "    min_conf = (acc + (z**2 / (2 * N)) - variation) / den\n",
    "    max_conf = (acc + (z**2 / (2 * N)) + variation) / den\n",
    "    return min_conf, max_conf"
   ]
  },
  {
   "cell_type": "code",
   "execution_count": 82,
   "id": "677b8bba",
   "metadata": {},
   "outputs": [
    {
     "name": "stdout",
     "output_type": "stream",
     "text": [
      "Model: rand_forest\n",
      "  Min: 0.6893234677790571\n",
      "  Max: 0.7450205292899214\n",
      "\n",
      "Model: svm\n",
      "  Min: 0.6722998518350618\n",
      "  Max: 0.7289427489588347\n",
      "\n",
      "Model: rand_forest_regr\n",
      "  Min: 0.6640342561707865\n",
      "  Max: 0.7211049626514489\n",
      "\n",
      "Model: dec_tree\n",
      "  Min: 0.6408987341766599\n",
      "  Max: 0.6990615518917475\n",
      "\n",
      "Model: dec_tree_regr\n",
      "  Min: 0.5898554845013649\n",
      "  Max: 0.6499059804100383\n",
      "\n"
     ]
    }
   ],
   "source": [
    "N = 1000\n",
    "z = 1.96 #confidenza al 95%\n",
    "for model in best_models:\n",
    "    print(f\"Model: {model}\")\n",
    "    acc = accuracy(y_val, models[model].predict(X_val))\n",
    "    cmin, cmax = confidence(acc, N, z)\n",
    "    print(f\"  Min: {cmin}\")\n",
    "    print(f\"  Max: {cmax}\\n\")"
   ]
  },
  {
   "cell_type": "markdown",
   "id": "6daba211",
   "metadata": {},
   "source": [
    "### Miglior modello"
   ]
  },
  {
   "cell_type": "markdown",
   "id": "c9b0297c",
   "metadata": {},
   "source": [
    "Il modello che ottiene l'accuracy migliore di tutti i modelli utilizzati è l'algoritmo di **random forest** con un valore compreso fra il **~69%** e il **~75%**, considerando la confidenza del 95% su 1000 elementi.    \n",
    "In \"seconda posizione\" si classifica **SVM**, il quale ottiene un'accuracy molto vicina a quella del random forest (con una differenza di solo ~2%).    \n",
    "Possiamo quindi affermare che il modello che utilizza il random forest è il migliore dei modelli presi in considerazione all'interno del progetto."
   ]
  },
  {
   "cell_type": "markdown",
   "id": "4f3837c8",
   "metadata": {},
   "source": [
    "Confrontando il risultato ottenuto con alcuni risultati presenti su Kaggle, posso considerarmi soddisfatto dato che molti esempi non superavano il ~69% di accuracy. Questo risultato è stato superato dato che, nel nostro caso:\n",
    "- per l'algoritmo di **random forest** il ~69% è la precisione **minima** (sempre con confidenza del 95% su 1000 elementi);\n",
    "- per l'algoritmo che utilizza le **SVM** la precisione **media** è del ~69%."
   ]
  }
 ],
 "metadata": {
  "kernelspec": {
   "display_name": "Python 3 (ipykernel)",
   "language": "python",
   "name": "python3"
  },
  "language_info": {
   "codemirror_mode": {
    "name": "ipython",
    "version": 3
   },
   "file_extension": ".py",
   "mimetype": "text/x-python",
   "name": "python",
   "nbconvert_exporter": "python",
   "pygments_lexer": "ipython3",
   "version": "3.9.7"
  }
 },
 "nbformat": 4,
 "nbformat_minor": 5
}
